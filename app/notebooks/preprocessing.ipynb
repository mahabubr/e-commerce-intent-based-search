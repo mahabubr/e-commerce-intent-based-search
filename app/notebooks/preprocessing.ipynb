{
 "cells": [
  {
   "cell_type": "markdown",
   "metadata": {},
   "source": [
    "### Import Libraries"
   ]
  },
  {
   "cell_type": "code",
   "execution_count": 1,
   "metadata": {},
   "outputs": [
    {
     "name": "stderr",
     "output_type": "stream",
     "text": [
      "/run/media/mahabubr/253e3bec-13c8-40a5-aefe-840692731443/e-commerce-intent-based-search/venv/lib/python3.13/site-packages/tqdm/auto.py:21: TqdmWarning: IProgress not found. Please update jupyter and ipywidgets. See https://ipywidgets.readthedocs.io/en/stable/user_install.html\n",
      "  from .autonotebook import tqdm as notebook_tqdm\n"
     ]
    }
   ],
   "source": [
    "import pandas as pd\n",
    "import numpy as np\n",
    "from datasets import load_dataset\n",
    "import re"
   ]
  },
  {
   "cell_type": "markdown",
   "metadata": {},
   "source": [
    "### Download Dataset From Hugging Face"
   ]
  },
  {
   "cell_type": "code",
   "execution_count": 2,
   "metadata": {},
   "outputs": [],
   "source": [
    "ds = load_dataset(\"ckandemir/amazon-products\")"
   ]
  },
  {
   "cell_type": "code",
   "execution_count": 3,
   "metadata": {},
   "outputs": [
    {
     "data": {
      "text/plain": [
       "DatasetDict({\n",
       "    train: Dataset({\n",
       "        features: ['Product Name', 'Category', 'Description', 'Selling Price', 'Product Specification', 'Image'],\n",
       "        num_rows: 23993\n",
       "    })\n",
       "    test: Dataset({\n",
       "        features: ['Product Name', 'Category', 'Description', 'Selling Price', 'Product Specification', 'Image'],\n",
       "        num_rows: 6665\n",
       "    })\n",
       "    eval: Dataset({\n",
       "        features: ['Product Name', 'Category', 'Description', 'Selling Price', 'Product Specification', 'Image'],\n",
       "        num_rows: 2666\n",
       "    })\n",
       "})"
      ]
     },
     "execution_count": 3,
     "metadata": {},
     "output_type": "execute_result"
    }
   ],
   "source": [
    "ds"
   ]
  },
  {
   "cell_type": "markdown",
   "metadata": {},
   "source": [
    "### Split Into Train, Test and Eval"
   ]
  },
  {
   "cell_type": "code",
   "execution_count": 4,
   "metadata": {},
   "outputs": [],
   "source": [
    "df_train = pd.DataFrame(ds[\"train\"])\n",
    "df_test = pd.DataFrame(ds[\"test\"])\n",
    "df_eval = pd.DataFrame(ds[\"eval\"])"
   ]
  },
  {
   "cell_type": "code",
   "execution_count": 5,
   "metadata": {},
   "outputs": [
    {
     "data": {
      "text/html": [
       "<div>\n",
       "<style scoped>\n",
       "    .dataframe tbody tr th:only-of-type {\n",
       "        vertical-align: middle;\n",
       "    }\n",
       "\n",
       "    .dataframe tbody tr th {\n",
       "        vertical-align: top;\n",
       "    }\n",
       "\n",
       "    .dataframe thead th {\n",
       "        text-align: right;\n",
       "    }\n",
       "</style>\n",
       "<table border=\"1\" class=\"dataframe\">\n",
       "  <thead>\n",
       "    <tr style=\"text-align: right;\">\n",
       "      <th></th>\n",
       "      <th>Product Name</th>\n",
       "      <th>Category</th>\n",
       "      <th>Description</th>\n",
       "      <th>Selling Price</th>\n",
       "      <th>Product Specification</th>\n",
       "      <th>Image</th>\n",
       "    </tr>\n",
       "  </thead>\n",
       "  <tbody>\n",
       "    <tr>\n",
       "      <th>0</th>\n",
       "      <td>Craft-tastic – Empower Poster – Craft Kit – De...</td>\n",
       "      <td>Toys &amp; Games | Arts &amp; Crafts | Craft Kits | Pa...</td>\n",
       "      <td>PERFECT GIFT FOR AGES 8 AND ABOVE: Make this f...</td>\n",
       "      <td>$14.47</td>\n",
       "      <td>ProductDimensions:3x10x15inches|ItemWeight:15....</td>\n",
       "      <td>https://images-na.ssl-images-amazon.com/images...</td>\n",
       "    </tr>\n",
       "  </tbody>\n",
       "</table>\n",
       "</div>"
      ],
      "text/plain": [
       "                                        Product Name  \\\n",
       "0  Craft-tastic – Empower Poster – Craft Kit – De...   \n",
       "\n",
       "                                            Category  \\\n",
       "0  Toys & Games | Arts & Crafts | Craft Kits | Pa...   \n",
       "\n",
       "                                         Description Selling Price  \\\n",
       "0  PERFECT GIFT FOR AGES 8 AND ABOVE: Make this f...        $14.47   \n",
       "\n",
       "                               Product Specification  \\\n",
       "0  ProductDimensions:3x10x15inches|ItemWeight:15....   \n",
       "\n",
       "                                               Image  \n",
       "0  https://images-na.ssl-images-amazon.com/images...  "
      ]
     },
     "execution_count": 5,
     "metadata": {},
     "output_type": "execute_result"
    }
   ],
   "source": [
    "df_train.head(1)"
   ]
  },
  {
   "cell_type": "code",
   "execution_count": 6,
   "metadata": {},
   "outputs": [
    {
     "data": {
      "text/html": [
       "<div>\n",
       "<style scoped>\n",
       "    .dataframe tbody tr th:only-of-type {\n",
       "        vertical-align: middle;\n",
       "    }\n",
       "\n",
       "    .dataframe tbody tr th {\n",
       "        vertical-align: top;\n",
       "    }\n",
       "\n",
       "    .dataframe thead th {\n",
       "        text-align: right;\n",
       "    }\n",
       "</style>\n",
       "<table border=\"1\" class=\"dataframe\">\n",
       "  <thead>\n",
       "    <tr style=\"text-align: right;\">\n",
       "      <th></th>\n",
       "      <th>Product Name</th>\n",
       "      <th>Category</th>\n",
       "      <th>Description</th>\n",
       "      <th>Selling Price</th>\n",
       "      <th>Product Specification</th>\n",
       "      <th>Image</th>\n",
       "    </tr>\n",
       "  </thead>\n",
       "  <tbody>\n",
       "    <tr>\n",
       "      <th>0</th>\n",
       "      <td>amscan Festive Fall Thanksgiving Party Game Ac...</td>\n",
       "      <td>Toys &amp; Games | Party Supplies</td>\n",
       "      <td>It is the perfect activity for your guests on ...</td>\n",
       "      <td>$4.80</td>\n",
       "      <td>ProductDimensions:11.3x8.5x0.7inches|ItemWeigh...</td>\n",
       "      <td>https://images-na.ssl-images-amazon.com/images...</td>\n",
       "    </tr>\n",
       "  </tbody>\n",
       "</table>\n",
       "</div>"
      ],
      "text/plain": [
       "                                        Product Name  \\\n",
       "0  amscan Festive Fall Thanksgiving Party Game Ac...   \n",
       "\n",
       "                        Category  \\\n",
       "0  Toys & Games | Party Supplies   \n",
       "\n",
       "                                         Description Selling Price  \\\n",
       "0  It is the perfect activity for your guests on ...         $4.80   \n",
       "\n",
       "                               Product Specification  \\\n",
       "0  ProductDimensions:11.3x8.5x0.7inches|ItemWeigh...   \n",
       "\n",
       "                                               Image  \n",
       "0  https://images-na.ssl-images-amazon.com/images...  "
      ]
     },
     "execution_count": 6,
     "metadata": {},
     "output_type": "execute_result"
    }
   ],
   "source": [
    "df_test.head(1)"
   ]
  },
  {
   "cell_type": "code",
   "execution_count": 7,
   "metadata": {},
   "outputs": [
    {
     "data": {
      "text/html": [
       "<div>\n",
       "<style scoped>\n",
       "    .dataframe tbody tr th:only-of-type {\n",
       "        vertical-align: middle;\n",
       "    }\n",
       "\n",
       "    .dataframe tbody tr th {\n",
       "        vertical-align: top;\n",
       "    }\n",
       "\n",
       "    .dataframe thead th {\n",
       "        text-align: right;\n",
       "    }\n",
       "</style>\n",
       "<table border=\"1\" class=\"dataframe\">\n",
       "  <thead>\n",
       "    <tr style=\"text-align: right;\">\n",
       "      <th></th>\n",
       "      <th>Product Name</th>\n",
       "      <th>Category</th>\n",
       "      <th>Description</th>\n",
       "      <th>Selling Price</th>\n",
       "      <th>Product Specification</th>\n",
       "      <th>Image</th>\n",
       "    </tr>\n",
       "  </thead>\n",
       "  <tbody>\n",
       "    <tr>\n",
       "      <th>0</th>\n",
       "      <td>Sweet Jojo Designs Vintage Floral Boho Baby Ki...</td>\n",
       "      <td>Baby Products | Nursery | Furniture | Storage ...</td>\n",
       "      <td>Great Condition.</td>\n",
       "      <td>$39.99</td>\n",
       "      <td>None</td>\n",
       "      <td>https://images-na.ssl-images-amazon.com/images...</td>\n",
       "    </tr>\n",
       "  </tbody>\n",
       "</table>\n",
       "</div>"
      ],
      "text/plain": [
       "                                        Product Name  \\\n",
       "0  Sweet Jojo Designs Vintage Floral Boho Baby Ki...   \n",
       "\n",
       "                                            Category       Description  \\\n",
       "0  Baby Products | Nursery | Furniture | Storage ...  Great Condition.   \n",
       "\n",
       "  Selling Price Product Specification  \\\n",
       "0        $39.99                  None   \n",
       "\n",
       "                                               Image  \n",
       "0  https://images-na.ssl-images-amazon.com/images...  "
      ]
     },
     "execution_count": 7,
     "metadata": {},
     "output_type": "execute_result"
    }
   ],
   "source": [
    "df_eval.head(1)"
   ]
  },
  {
   "cell_type": "markdown",
   "metadata": {},
   "source": [
    "### Clean Text From The Data Frame"
   ]
  },
  {
   "cell_type": "code",
   "execution_count": 8,
   "metadata": {},
   "outputs": [],
   "source": [
    "def clean_text(text):\n",
    "    \"\"\"\n",
    "    Lowercase, remove special characters, and strip whitespace.\n",
    "    \"\"\"\n",
    "    \n",
    "    if pd.isna(text):\n",
    "        return \"\"\n",
    "\n",
    "    text = text.lower()\n",
    "    text = re.sub(r\"[^a-z0-9\\s]\", \"\", text)\n",
    "\n",
    "    return text.strip()"
   ]
  },
  {
   "cell_type": "code",
   "execution_count": 9,
   "metadata": {},
   "outputs": [],
   "source": [
    "df_train[\"Product Name\"] = df_train[\"Product Name\"].apply(clean_text)\n",
    "df_train[\"Description\"] = df_train[\"Description\"].apply(clean_text)"
   ]
  },
  {
   "cell_type": "code",
   "execution_count": 10,
   "metadata": {},
   "outputs": [],
   "source": [
    "df_test[\"Product Name\"] = df_test[\"Product Name\"].apply(clean_text)\n",
    "df_test[\"Description\"] = df_train[\"Description\"].apply(clean_text)"
   ]
  },
  {
   "cell_type": "code",
   "execution_count": 11,
   "metadata": {},
   "outputs": [],
   "source": [
    "df_eval[\"Product Name\"] = df_eval[\"Product Name\"].apply(clean_text)\n",
    "df_eval[\"Description\"] = df_eval[\"Description\"].apply(clean_text)"
   ]
  },
  {
   "cell_type": "markdown",
   "metadata": {},
   "source": [
    "### Process Categories"
   ]
  },
  {
   "cell_type": "code",
   "execution_count": 12,
   "metadata": {},
   "outputs": [],
   "source": [
    "def process_list(field):\n",
    "    \"\"\"\n",
    "    Split a ' | ' separated string into a structured list.\n",
    "    \"\"\"\n",
    "\n",
    "    if isinstance(field, str) and field.strip():\n",
    "        return field.split(\" | \")\n",
    "\n",
    "    if isinstance(field, (np.ndarray, list)):\n",
    "        field = \" | \".join(map(str, field))\n",
    "        return field.split(\" | \")\n",
    "\n",
    "    if pd.isna(field) or field == \"\":\n",
    "        return []\n",
    "\n",
    "    return []"
   ]
  },
  {
   "cell_type": "code",
   "execution_count": 13,
   "metadata": {},
   "outputs": [],
   "source": [
    "df_train[\"Category\"] = df_train[\"Category\"].apply(process_list)"
   ]
  },
  {
   "cell_type": "code",
   "execution_count": 14,
   "metadata": {},
   "outputs": [],
   "source": [
    "df_test[\"Category\"] = df_test[\"Category\"].apply(process_list)"
   ]
  },
  {
   "cell_type": "code",
   "execution_count": 15,
   "metadata": {},
   "outputs": [],
   "source": [
    "df_eval[\"Category\"] = df_eval[\"Category\"].apply(process_list)"
   ]
  },
  {
   "cell_type": "markdown",
   "metadata": {},
   "source": [
    "### Turn Price Into Numbers"
   ]
  },
  {
   "cell_type": "code",
   "execution_count": 16,
   "metadata": {},
   "outputs": [],
   "source": [
    "def turn_price(price):\n",
    "    if pd.isna(price):\n",
    "        return None\n",
    "\n",
    "    price_str = str(price)\n",
    "\n",
    "    match = re.search(r\"[\\d]+(\\.\\d+)?\", price_str)\n",
    "\n",
    "    if not match:\n",
    "        return None;\n",
    "\n",
    "    return float(match.group())"
   ]
  },
  {
   "cell_type": "code",
   "execution_count": 17,
   "metadata": {},
   "outputs": [],
   "source": [
    "df_train[\"Selling Price\"] = df_train[\"Selling Price\"].apply(turn_price)"
   ]
  },
  {
   "cell_type": "code",
   "execution_count": 18,
   "metadata": {},
   "outputs": [],
   "source": [
    "df_test[\"Selling Price\"] = df_test[\"Selling Price\"].apply(turn_price)"
   ]
  },
  {
   "cell_type": "code",
   "execution_count": 19,
   "metadata": {},
   "outputs": [],
   "source": [
    "df_eval[\"Selling Price\"] = df_eval[\"Selling Price\"].apply(turn_price)"
   ]
  },
  {
   "cell_type": "markdown",
   "metadata": {},
   "source": [
    "### Process Specification"
   ]
  },
  {
   "cell_type": "code",
   "execution_count": 20,
   "metadata": {},
   "outputs": [],
   "source": [
    "def process_specification(raw_specifications):\n",
    "    if pd.isna(raw_specifications):\n",
    "        return None\n",
    "\n",
    "    clean_specifications = re.sub(r\"\\(.*\\)\", \"\", raw_specifications)\n",
    "    specifications = clean_specifications.split(\"|\")\n",
    "\n",
    "    data = {}\n",
    "\n",
    "    for spec in specifications:\n",
    "        if \":\" not in spec:\n",
    "            continue  \n",
    "\n",
    "        key, value = spec.split(\":\", 1)\n",
    "\n",
    "        if key == \"ProductDimensions\":\n",
    "            data[\"Dimensions\"] = value.replace(\"inches\", \"\").strip()\n",
    "\n",
    "        elif key == \"ItemWeight\" or key == \"ShippingWeight\":\n",
    "            match = re.match(r\"([0-9\\.]+)\", value)\n",
    "            if match:\n",
    "                numeric_value = match.group(1)\n",
    "                if numeric_value and numeric_value != \".\":\n",
    "                    data[key] = float(\n",
    "                        numeric_value\n",
    "                    ) \n",
    "                else:\n",
    "                    data[key] = None \n",
    "\n",
    "        elif key == \"ASIN\":\n",
    "            data[\"ASIN\"] = value.strip()\n",
    "        elif key == \"Itemmodelnumber\":\n",
    "            data[\"ItemModelNumber\"] = value.strip()\n",
    "\n",
    "        elif key == \"Manufacturerrecommendedage\":\n",
    "            data[\"RecommendedAge\"] = value.strip()\n",
    "\n",
    "    return data"
   ]
  },
  {
   "cell_type": "code",
   "execution_count": 21,
   "metadata": {},
   "outputs": [],
   "source": [
    "processed_data = df_train[\"Product Specification\"].apply(process_specification)\n",
    "processed_df = pd.json_normalize(processed_data)\n",
    "\n",
    "df_train = pd.concat([df_train, processed_df], axis=1)\n",
    "\n",
    "df_train.drop(columns=[\"Product Specification\"], inplace=True)"
   ]
  },
  {
   "cell_type": "code",
   "execution_count": 22,
   "metadata": {},
   "outputs": [],
   "source": [
    "processed_data = df_test[\"Product Specification\"].apply(process_specification)\n",
    "processed_df = pd.json_normalize(processed_data)\n",
    "\n",
    "df_test = pd.concat([df_test, processed_df], axis=1)\n",
    "\n",
    "df_test.drop(columns=[\"Product Specification\"], inplace=True)"
   ]
  },
  {
   "cell_type": "code",
   "execution_count": 23,
   "metadata": {},
   "outputs": [],
   "source": [
    "processed_data = df_eval[\"Product Specification\"].apply(process_specification)\n",
    "processed_df = pd.json_normalize(processed_data)\n",
    "\n",
    "df_eval = pd.concat([df_eval, processed_df], axis=1)\n",
    "\n",
    "df_eval.drop(columns=[\"Product Specification\"], inplace=True)"
   ]
  },
  {
   "cell_type": "markdown",
   "metadata": {},
   "source": [
    "### Visualized Preprocessed Data"
   ]
  },
  {
   "cell_type": "code",
   "execution_count": 24,
   "metadata": {},
   "outputs": [
    {
     "data": {
      "text/html": [
       "<div>\n",
       "<style scoped>\n",
       "    .dataframe tbody tr th:only-of-type {\n",
       "        vertical-align: middle;\n",
       "    }\n",
       "\n",
       "    .dataframe tbody tr th {\n",
       "        vertical-align: top;\n",
       "    }\n",
       "\n",
       "    .dataframe thead th {\n",
       "        text-align: right;\n",
       "    }\n",
       "</style>\n",
       "<table border=\"1\" class=\"dataframe\">\n",
       "  <thead>\n",
       "    <tr style=\"text-align: right;\">\n",
       "      <th></th>\n",
       "      <th>Product Name</th>\n",
       "      <th>Category</th>\n",
       "      <th>Description</th>\n",
       "      <th>Selling Price</th>\n",
       "      <th>Image</th>\n",
       "      <th>Dimensions</th>\n",
       "      <th>ItemWeight</th>\n",
       "      <th>ShippingWeight</th>\n",
       "      <th>ASIN</th>\n",
       "      <th>ItemModelNumber</th>\n",
       "      <th>RecommendedAge</th>\n",
       "    </tr>\n",
       "  </thead>\n",
       "  <tbody>\n",
       "    <tr>\n",
       "      <th>0</th>\n",
       "      <td>crafttastic  empower poster  craft kit  design...</td>\n",
       "      <td>[Toys &amp; Games, Arts &amp; Crafts, Craft Kits, Pape...</td>\n",
       "      <td>perfect gift for ages 8 and above make this fe...</td>\n",
       "      <td>14.47</td>\n",
       "      <td>https://images-na.ssl-images-amazon.com/images...</td>\n",
       "      <td>3x10x15</td>\n",
       "      <td>15.20</td>\n",
       "      <td>15.20</td>\n",
       "      <td>B01D52Q1UC</td>\n",
       "      <td>CT1688</td>\n",
       "      <td>8-15years</td>\n",
       "    </tr>\n",
       "    <tr>\n",
       "      <th>1</th>\n",
       "      <td>melissa  doug dottodot  letter coloring pad 3 ...</td>\n",
       "      <td>[Toys &amp; Games, Games &amp; Accessories, Board Games]</td>\n",
       "      <td>3 jumbo connectthedots coloring pads abc farm ...</td>\n",
       "      <td>12.74</td>\n",
       "      <td>https://images-na.ssl-images-amazon.com/images...</td>\n",
       "      <td>11x0.8x14</td>\n",
       "      <td>3.25</td>\n",
       "      <td>3.25</td>\n",
       "      <td>B07ZG7QYR5</td>\n",
       "      <td>97076</td>\n",
       "      <td>4-6years</td>\n",
       "    </tr>\n",
       "    <tr>\n",
       "      <th>2</th>\n",
       "      <td>rpm rear shock tower for the nitro slash nitro...</td>\n",
       "      <td>[Toys &amp; Games, Hobbies, Remote &amp; App Controlle...</td>\n",
       "      <td>great condition</td>\n",
       "      <td>9.06</td>\n",
       "      <td>https://images-na.ssl-images-amazon.com/images...</td>\n",
       "      <td>5.9x4x0.4</td>\n",
       "      <td>0.32</td>\n",
       "      <td>0.32</td>\n",
       "      <td>B000VQML1O</td>\n",
       "      <td>RPM80862</td>\n",
       "      <td>16yearsandup</td>\n",
       "    </tr>\n",
       "    <tr>\n",
       "      <th>3</th>\n",
       "      <td>disney pixar cars mini racers crank  crash der...</td>\n",
       "      <td>[Toys &amp; Games, Play Vehicles, Toy Vehicles]</td>\n",
       "      <td>disneypixar cars 3 new crazy 8 track</td>\n",
       "      <td>27.85</td>\n",
       "      <td>https://images-na.ssl-images-amazon.com/images...</td>\n",
       "      <td>2.9x14x10</td>\n",
       "      <td>1.57</td>\n",
       "      <td>1.76</td>\n",
       "      <td>B076FLF7CC</td>\n",
       "      <td>FLG71</td>\n",
       "      <td>4-8years</td>\n",
       "    </tr>\n",
       "    <tr>\n",
       "      <th>4</th>\n",
       "      <td>areaware cubebot small</td>\n",
       "      <td>[Toys &amp; Games, Puzzles, Brain Teasers, Assembl...</td>\n",
       "      <td>great condition</td>\n",
       "      <td>28.92</td>\n",
       "      <td>https://images-na.ssl-images-amazon.com/images...</td>\n",
       "      <td>NaN</td>\n",
       "      <td>NaN</td>\n",
       "      <td>NaN</td>\n",
       "      <td>NaN</td>\n",
       "      <td>NaN</td>\n",
       "      <td>NaN</td>\n",
       "    </tr>\n",
       "  </tbody>\n",
       "</table>\n",
       "</div>"
      ],
      "text/plain": [
       "                                        Product Name  \\\n",
       "0  crafttastic  empower poster  craft kit  design...   \n",
       "1  melissa  doug dottodot  letter coloring pad 3 ...   \n",
       "2  rpm rear shock tower for the nitro slash nitro...   \n",
       "3  disney pixar cars mini racers crank  crash der...   \n",
       "4                             areaware cubebot small   \n",
       "\n",
       "                                            Category  \\\n",
       "0  [Toys & Games, Arts & Crafts, Craft Kits, Pape...   \n",
       "1   [Toys & Games, Games & Accessories, Board Games]   \n",
       "2  [Toys & Games, Hobbies, Remote & App Controlle...   \n",
       "3        [Toys & Games, Play Vehicles, Toy Vehicles]   \n",
       "4  [Toys & Games, Puzzles, Brain Teasers, Assembl...   \n",
       "\n",
       "                                         Description  Selling Price  \\\n",
       "0  perfect gift for ages 8 and above make this fe...          14.47   \n",
       "1  3 jumbo connectthedots coloring pads abc farm ...          12.74   \n",
       "2                                    great condition           9.06   \n",
       "3               disneypixar cars 3 new crazy 8 track          27.85   \n",
       "4                                    great condition          28.92   \n",
       "\n",
       "                                               Image Dimensions  ItemWeight  \\\n",
       "0  https://images-na.ssl-images-amazon.com/images...    3x10x15       15.20   \n",
       "1  https://images-na.ssl-images-amazon.com/images...  11x0.8x14        3.25   \n",
       "2  https://images-na.ssl-images-amazon.com/images...  5.9x4x0.4        0.32   \n",
       "3  https://images-na.ssl-images-amazon.com/images...  2.9x14x10        1.57   \n",
       "4  https://images-na.ssl-images-amazon.com/images...        NaN         NaN   \n",
       "\n",
       "   ShippingWeight        ASIN ItemModelNumber RecommendedAge  \n",
       "0           15.20  B01D52Q1UC          CT1688      8-15years  \n",
       "1            3.25  B07ZG7QYR5           97076       4-6years  \n",
       "2            0.32  B000VQML1O        RPM80862   16yearsandup  \n",
       "3            1.76  B076FLF7CC           FLG71       4-8years  \n",
       "4             NaN         NaN             NaN            NaN  "
      ]
     },
     "execution_count": 24,
     "metadata": {},
     "output_type": "execute_result"
    }
   ],
   "source": [
    "df_train.head()"
   ]
  },
  {
   "cell_type": "code",
   "execution_count": 25,
   "metadata": {},
   "outputs": [
    {
     "data": {
      "text/html": [
       "<div>\n",
       "<style scoped>\n",
       "    .dataframe tbody tr th:only-of-type {\n",
       "        vertical-align: middle;\n",
       "    }\n",
       "\n",
       "    .dataframe tbody tr th {\n",
       "        vertical-align: top;\n",
       "    }\n",
       "\n",
       "    .dataframe thead th {\n",
       "        text-align: right;\n",
       "    }\n",
       "</style>\n",
       "<table border=\"1\" class=\"dataframe\">\n",
       "  <thead>\n",
       "    <tr style=\"text-align: right;\">\n",
       "      <th></th>\n",
       "      <th>Product Name</th>\n",
       "      <th>Category</th>\n",
       "      <th>Description</th>\n",
       "      <th>Selling Price</th>\n",
       "      <th>Image</th>\n",
       "      <th>Dimensions</th>\n",
       "      <th>ItemWeight</th>\n",
       "      <th>ShippingWeight</th>\n",
       "      <th>ASIN</th>\n",
       "      <th>ItemModelNumber</th>\n",
       "      <th>RecommendedAge</th>\n",
       "    </tr>\n",
       "  </thead>\n",
       "  <tbody>\n",
       "    <tr>\n",
       "      <th>0</th>\n",
       "      <td>amscan festive fall thanksgiving party game ac...</td>\n",
       "      <td>[Toys &amp; Games, Party Supplies]</td>\n",
       "      <td>perfect gift for ages 8 and above make this fe...</td>\n",
       "      <td>4.80</td>\n",
       "      <td>https://images-na.ssl-images-amazon.com/images...</td>\n",
       "      <td>11.3x8.5x0.7</td>\n",
       "      <td>3.20</td>\n",
       "      <td>3.20</td>\n",
       "      <td>B00G4F6VJO</td>\n",
       "      <td>270072</td>\n",
       "      <td>4-12years</td>\n",
       "    </tr>\n",
       "    <tr>\n",
       "      <th>1</th>\n",
       "      <td>gmp 118 home improvement 199199 tv series  199...</td>\n",
       "      <td>[Toys &amp; Games, Dress Up &amp; Pretend Play, Preten...</td>\n",
       "      <td>3 jumbo connectthedots coloring pads abc farm ...</td>\n",
       "      <td>139.95</td>\n",
       "      <td>https://images-na.ssl-images-amazon.com/images...</td>\n",
       "      <td>9.5x4x2.5</td>\n",
       "      <td>3.20</td>\n",
       "      <td>3.20</td>\n",
       "      <td>B082QSZKKK</td>\n",
       "      <td>GMP-18920</td>\n",
       "      <td>14yearsandup</td>\n",
       "    </tr>\n",
       "    <tr>\n",
       "      <th>2</th>\n",
       "      <td>manhattan toy wimmerferguson double sided 3in1...</td>\n",
       "      <td>[Toys &amp; Games, Baby &amp; Toddler Toys, Car Seat &amp;...</td>\n",
       "      <td>great condition</td>\n",
       "      <td>15.39</td>\n",
       "      <td>https://images-na.ssl-images-amazon.com/images...</td>\n",
       "      <td>12.2x12x3</td>\n",
       "      <td>6.40</td>\n",
       "      <td>6.40</td>\n",
       "      <td>B0043QKB6K</td>\n",
       "      <td>210500</td>\n",
       "      <td>3months-15years</td>\n",
       "    </tr>\n",
       "    <tr>\n",
       "      <th>3</th>\n",
       "      <td>whamo slip n slide wave rider 16</td>\n",
       "      <td>[Toys &amp; Games, Sports &amp; Outdoor Play, Pools &amp; ...</td>\n",
       "      <td>disneypixar cars 3 new crazy 8 track</td>\n",
       "      <td>16.19</td>\n",
       "      <td>https://images-na.ssl-images-amazon.com/images...</td>\n",
       "      <td>11.8x10.5x2</td>\n",
       "      <td>2.00</td>\n",
       "      <td>2.15</td>\n",
       "      <td>B001X6F6HM</td>\n",
       "      <td>WaveRiderwithBoogie</td>\n",
       "      <td>8-15years</td>\n",
       "    </tr>\n",
       "    <tr>\n",
       "      <th>4</th>\n",
       "      <td>wow stuff collection harry potter wingardium l...</td>\n",
       "      <td>[Toys &amp; Games, Novelty &amp; Gag Toys]</td>\n",
       "      <td>great condition</td>\n",
       "      <td>15.51</td>\n",
       "      <td>https://images-na.ssl-images-amazon.com/images...</td>\n",
       "      <td>7x0.2x0.2</td>\n",
       "      <td>3.84</td>\n",
       "      <td>4.80</td>\n",
       "      <td>B07F7P4DP7</td>\n",
       "      <td>WW-1018</td>\n",
       "      <td>8yearsandup</td>\n",
       "    </tr>\n",
       "  </tbody>\n",
       "</table>\n",
       "</div>"
      ],
      "text/plain": [
       "                                        Product Name  \\\n",
       "0  amscan festive fall thanksgiving party game ac...   \n",
       "1  gmp 118 home improvement 199199 tv series  199...   \n",
       "2  manhattan toy wimmerferguson double sided 3in1...   \n",
       "3                   whamo slip n slide wave rider 16   \n",
       "4  wow stuff collection harry potter wingardium l...   \n",
       "\n",
       "                                            Category  \\\n",
       "0                     [Toys & Games, Party Supplies]   \n",
       "1  [Toys & Games, Dress Up & Pretend Play, Preten...   \n",
       "2  [Toys & Games, Baby & Toddler Toys, Car Seat &...   \n",
       "3  [Toys & Games, Sports & Outdoor Play, Pools & ...   \n",
       "4                 [Toys & Games, Novelty & Gag Toys]   \n",
       "\n",
       "                                         Description  Selling Price  \\\n",
       "0  perfect gift for ages 8 and above make this fe...           4.80   \n",
       "1  3 jumbo connectthedots coloring pads abc farm ...         139.95   \n",
       "2                                    great condition          15.39   \n",
       "3               disneypixar cars 3 new crazy 8 track          16.19   \n",
       "4                                    great condition          15.51   \n",
       "\n",
       "                                               Image    Dimensions  \\\n",
       "0  https://images-na.ssl-images-amazon.com/images...  11.3x8.5x0.7   \n",
       "1  https://images-na.ssl-images-amazon.com/images...     9.5x4x2.5   \n",
       "2  https://images-na.ssl-images-amazon.com/images...     12.2x12x3   \n",
       "3  https://images-na.ssl-images-amazon.com/images...   11.8x10.5x2   \n",
       "4  https://images-na.ssl-images-amazon.com/images...     7x0.2x0.2   \n",
       "\n",
       "   ItemWeight  ShippingWeight        ASIN      ItemModelNumber  \\\n",
       "0        3.20            3.20  B00G4F6VJO               270072   \n",
       "1        3.20            3.20  B082QSZKKK            GMP-18920   \n",
       "2        6.40            6.40  B0043QKB6K               210500   \n",
       "3        2.00            2.15  B001X6F6HM  WaveRiderwithBoogie   \n",
       "4        3.84            4.80  B07F7P4DP7              WW-1018   \n",
       "\n",
       "    RecommendedAge  \n",
       "0        4-12years  \n",
       "1     14yearsandup  \n",
       "2  3months-15years  \n",
       "3        8-15years  \n",
       "4      8yearsandup  "
      ]
     },
     "execution_count": 25,
     "metadata": {},
     "output_type": "execute_result"
    }
   ],
   "source": [
    "df_test.head()"
   ]
  },
  {
   "cell_type": "code",
   "execution_count": 26,
   "metadata": {},
   "outputs": [
    {
     "data": {
      "text/html": [
       "<div>\n",
       "<style scoped>\n",
       "    .dataframe tbody tr th:only-of-type {\n",
       "        vertical-align: middle;\n",
       "    }\n",
       "\n",
       "    .dataframe tbody tr th {\n",
       "        vertical-align: top;\n",
       "    }\n",
       "\n",
       "    .dataframe thead th {\n",
       "        text-align: right;\n",
       "    }\n",
       "</style>\n",
       "<table border=\"1\" class=\"dataframe\">\n",
       "  <thead>\n",
       "    <tr style=\"text-align: right;\">\n",
       "      <th></th>\n",
       "      <th>Product Name</th>\n",
       "      <th>Category</th>\n",
       "      <th>Description</th>\n",
       "      <th>Selling Price</th>\n",
       "      <th>Image</th>\n",
       "      <th>Dimensions</th>\n",
       "      <th>ItemWeight</th>\n",
       "      <th>ShippingWeight</th>\n",
       "      <th>ASIN</th>\n",
       "      <th>ItemModelNumber</th>\n",
       "      <th>RecommendedAge</th>\n",
       "    </tr>\n",
       "  </thead>\n",
       "  <tbody>\n",
       "    <tr>\n",
       "      <th>0</th>\n",
       "      <td>sweet jojo designs vintage floral boho baby ki...</td>\n",
       "      <td>[Baby Products, Nursery, Furniture, Storage &amp; ...</td>\n",
       "      <td>great condition</td>\n",
       "      <td>39.99</td>\n",
       "      <td>https://images-na.ssl-images-amazon.com/images...</td>\n",
       "      <td>NaN</td>\n",
       "      <td>NaN</td>\n",
       "      <td>NaN</td>\n",
       "      <td>NaN</td>\n",
       "      <td>NaN</td>\n",
       "      <td>NaN</td>\n",
       "    </tr>\n",
       "    <tr>\n",
       "      <th>1</th>\n",
       "      <td>ultimate guard deck box sidewinder 80 chromias...</td>\n",
       "      <td>[Toys &amp; Games, Collectible Toys, Collectible D...</td>\n",
       "      <td>additional visual protection you will clearly ...</td>\n",
       "      <td>19.14</td>\n",
       "      <td>https://images-na.ssl-images-amazon.com/images...</td>\n",
       "      <td>3x3.8x3</td>\n",
       "      <td>5.00</td>\n",
       "      <td>5.00</td>\n",
       "      <td>B078TTJTG2</td>\n",
       "      <td>UGD010852</td>\n",
       "      <td>8yearsandup</td>\n",
       "    </tr>\n",
       "    <tr>\n",
       "      <th>2</th>\n",
       "      <td>xshot chaos orbit dart ball blaster 100 rounds...</td>\n",
       "      <td>[Toys &amp; Games, Sports &amp; Outdoor Play, Blasters...</td>\n",
       "      <td>chaos orbit ultimate blaster pack the xshot ch...</td>\n",
       "      <td>39.99</td>\n",
       "      <td>https://images-na.ssl-images-amazon.com/images...</td>\n",
       "      <td>9.8x4.3x23.4</td>\n",
       "      <td>4.55</td>\n",
       "      <td>4.55</td>\n",
       "      <td>B07RBBV4P7</td>\n",
       "      <td>B07RBBV4P7</td>\n",
       "      <td>8yearsandup</td>\n",
       "    </tr>\n",
       "    <tr>\n",
       "      <th>3</th>\n",
       "      <td>benjonah throw blankets perfect for the fall  ...</td>\n",
       "      <td>[Home &amp; Kitchen, Bedding, Kids' Bedding, Blank...</td>\n",
       "      <td>celebrate the fall and winter season with the ...</td>\n",
       "      <td>24.45</td>\n",
       "      <td>https://images-na.ssl-images-amazon.com/images...</td>\n",
       "      <td>60x50x0.5</td>\n",
       "      <td>1.00</td>\n",
       "      <td>1.00</td>\n",
       "      <td>B07YNXTGR4</td>\n",
       "      <td>Pkidthrows-Unicorn</td>\n",
       "      <td>NaN</td>\n",
       "    </tr>\n",
       "    <tr>\n",
       "      <th>4</th>\n",
       "      <td>banzai battle blast adventure inflatable water...</td>\n",
       "      <td>[Toys &amp; Games, Sports &amp; Outdoor Play, Pools &amp; ...</td>\n",
       "      <td>15l x 1110w x 8h inflatable water park</td>\n",
       "      <td>349.99</td>\n",
       "      <td>https://images-na.ssl-images-amazon.com/images...</td>\n",
       "      <td>180x142x96</td>\n",
       "      <td>55.00</td>\n",
       "      <td>58.90</td>\n",
       "      <td>B072QCKDFR</td>\n",
       "      <td>35547</td>\n",
       "      <td>3yearsandup</td>\n",
       "    </tr>\n",
       "  </tbody>\n",
       "</table>\n",
       "</div>"
      ],
      "text/plain": [
       "                                        Product Name  \\\n",
       "0  sweet jojo designs vintage floral boho baby ki...   \n",
       "1  ultimate guard deck box sidewinder 80 chromias...   \n",
       "2  xshot chaos orbit dart ball blaster 100 rounds...   \n",
       "3  benjonah throw blankets perfect for the fall  ...   \n",
       "4  banzai battle blast adventure inflatable water...   \n",
       "\n",
       "                                            Category  \\\n",
       "0  [Baby Products, Nursery, Furniture, Storage & ...   \n",
       "1  [Toys & Games, Collectible Toys, Collectible D...   \n",
       "2  [Toys & Games, Sports & Outdoor Play, Blasters...   \n",
       "3  [Home & Kitchen, Bedding, Kids' Bedding, Blank...   \n",
       "4  [Toys & Games, Sports & Outdoor Play, Pools & ...   \n",
       "\n",
       "                                         Description  Selling Price  \\\n",
       "0                                    great condition          39.99   \n",
       "1  additional visual protection you will clearly ...          19.14   \n",
       "2  chaos orbit ultimate blaster pack the xshot ch...          39.99   \n",
       "3  celebrate the fall and winter season with the ...          24.45   \n",
       "4             15l x 1110w x 8h inflatable water park         349.99   \n",
       "\n",
       "                                               Image    Dimensions  \\\n",
       "0  https://images-na.ssl-images-amazon.com/images...           NaN   \n",
       "1  https://images-na.ssl-images-amazon.com/images...       3x3.8x3   \n",
       "2  https://images-na.ssl-images-amazon.com/images...  9.8x4.3x23.4   \n",
       "3  https://images-na.ssl-images-amazon.com/images...     60x50x0.5   \n",
       "4  https://images-na.ssl-images-amazon.com/images...    180x142x96   \n",
       "\n",
       "   ItemWeight  ShippingWeight        ASIN     ItemModelNumber RecommendedAge  \n",
       "0         NaN             NaN         NaN                 NaN            NaN  \n",
       "1        5.00            5.00  B078TTJTG2           UGD010852    8yearsandup  \n",
       "2        4.55            4.55  B07RBBV4P7          B07RBBV4P7    8yearsandup  \n",
       "3        1.00            1.00  B07YNXTGR4  Pkidthrows-Unicorn            NaN  \n",
       "4       55.00           58.90  B072QCKDFR               35547    3yearsandup  "
      ]
     },
     "execution_count": 26,
     "metadata": {},
     "output_type": "execute_result"
    }
   ],
   "source": [
    "df_eval.head()"
   ]
  },
  {
   "cell_type": "markdown",
   "metadata": {},
   "source": [
    "### Save Preprocess Data Frame"
   ]
  },
  {
   "cell_type": "code",
   "execution_count": 27,
   "metadata": {},
   "outputs": [],
   "source": [
    "df_train.to_csv(\"../datasets/train.csv\")"
   ]
  },
  {
   "cell_type": "code",
   "execution_count": 28,
   "metadata": {},
   "outputs": [],
   "source": [
    "df_test.to_csv(\"../datasets/test.csv\")"
   ]
  },
  {
   "cell_type": "code",
   "execution_count": 29,
   "metadata": {},
   "outputs": [],
   "source": [
    "df_eval.to_csv(\"../datasets/eval.csv\")"
   ]
  }
 ],
 "metadata": {
  "kernelspec": {
   "display_name": "venv",
   "language": "python",
   "name": "python3"
  },
  "language_info": {
   "codemirror_mode": {
    "name": "ipython",
    "version": 3
   },
   "file_extension": ".py",
   "mimetype": "text/x-python",
   "name": "python",
   "nbconvert_exporter": "python",
   "pygments_lexer": "ipython3",
   "version": "3.13.2"
  }
 },
 "nbformat": 4,
 "nbformat_minor": 2
}
