{
 "cells": [
  {
   "cell_type": "markdown",
   "metadata": {},
   "source": [
    "### Import Libraries"
   ]
  },
  {
   "cell_type": "code",
   "execution_count": 164,
   "metadata": {},
   "outputs": [],
   "source": [
    "import pandas as pd\n",
    "import numpy as np\n",
    "from datasets import load_dataset\n",
    "import re"
   ]
  },
  {
   "cell_type": "markdown",
   "metadata": {},
   "source": [
    "### Download Dataset From Hugging Face"
   ]
  },
  {
   "cell_type": "code",
   "execution_count": 165,
   "metadata": {},
   "outputs": [],
   "source": [
    "ds = load_dataset(\"ckandemir/amazon-products\")"
   ]
  },
  {
   "cell_type": "code",
   "execution_count": 166,
   "metadata": {},
   "outputs": [
    {
     "data": {
      "text/plain": [
       "DatasetDict({\n",
       "    train: Dataset({\n",
       "        features: ['Product Name', 'Category', 'Description', 'Selling Price', 'Product Specification', 'Image'],\n",
       "        num_rows: 23993\n",
       "    })\n",
       "    test: Dataset({\n",
       "        features: ['Product Name', 'Category', 'Description', 'Selling Price', 'Product Specification', 'Image'],\n",
       "        num_rows: 6665\n",
       "    })\n",
       "    eval: Dataset({\n",
       "        features: ['Product Name', 'Category', 'Description', 'Selling Price', 'Product Specification', 'Image'],\n",
       "        num_rows: 2666\n",
       "    })\n",
       "})"
      ]
     },
     "execution_count": 166,
     "metadata": {},
     "output_type": "execute_result"
    }
   ],
   "source": [
    "ds"
   ]
  },
  {
   "cell_type": "markdown",
   "metadata": {},
   "source": [
    "### Split Into Train, Test and Eval"
   ]
  },
  {
   "cell_type": "code",
   "execution_count": 167,
   "metadata": {},
   "outputs": [],
   "source": [
    "df_train = pd.DataFrame(ds[\"train\"])\n",
    "df_test = pd.DataFrame(ds[\"test\"])\n",
    "df_eval = pd.DataFrame(ds[\"eval\"])"
   ]
  },
  {
   "cell_type": "code",
   "execution_count": 168,
   "metadata": {},
   "outputs": [
    {
     "data": {
      "text/html": [
       "<div>\n",
       "<style scoped>\n",
       "    .dataframe tbody tr th:only-of-type {\n",
       "        vertical-align: middle;\n",
       "    }\n",
       "\n",
       "    .dataframe tbody tr th {\n",
       "        vertical-align: top;\n",
       "    }\n",
       "\n",
       "    .dataframe thead th {\n",
       "        text-align: right;\n",
       "    }\n",
       "</style>\n",
       "<table border=\"1\" class=\"dataframe\">\n",
       "  <thead>\n",
       "    <tr style=\"text-align: right;\">\n",
       "      <th></th>\n",
       "      <th>Product Name</th>\n",
       "      <th>Category</th>\n",
       "      <th>Description</th>\n",
       "      <th>Selling Price</th>\n",
       "      <th>Product Specification</th>\n",
       "      <th>Image</th>\n",
       "    </tr>\n",
       "  </thead>\n",
       "  <tbody>\n",
       "    <tr>\n",
       "      <th>0</th>\n",
       "      <td>Craft-tastic – Empower Poster – Craft Kit – De...</td>\n",
       "      <td>Toys &amp; Games | Arts &amp; Crafts | Craft Kits | Pa...</td>\n",
       "      <td>PERFECT GIFT FOR AGES 8 AND ABOVE: Make this f...</td>\n",
       "      <td>$14.47</td>\n",
       "      <td>ProductDimensions:3x10x15inches|ItemWeight:15....</td>\n",
       "      <td>https://images-na.ssl-images-amazon.com/images...</td>\n",
       "    </tr>\n",
       "  </tbody>\n",
       "</table>\n",
       "</div>"
      ],
      "text/plain": [
       "                                        Product Name  \\\n",
       "0  Craft-tastic – Empower Poster – Craft Kit – De...   \n",
       "\n",
       "                                            Category  \\\n",
       "0  Toys & Games | Arts & Crafts | Craft Kits | Pa...   \n",
       "\n",
       "                                         Description Selling Price  \\\n",
       "0  PERFECT GIFT FOR AGES 8 AND ABOVE: Make this f...        $14.47   \n",
       "\n",
       "                               Product Specification  \\\n",
       "0  ProductDimensions:3x10x15inches|ItemWeight:15....   \n",
       "\n",
       "                                               Image  \n",
       "0  https://images-na.ssl-images-amazon.com/images...  "
      ]
     },
     "execution_count": 168,
     "metadata": {},
     "output_type": "execute_result"
    }
   ],
   "source": [
    "df_train.head(1)"
   ]
  },
  {
   "cell_type": "code",
   "execution_count": 169,
   "metadata": {},
   "outputs": [
    {
     "data": {
      "text/html": [
       "<div>\n",
       "<style scoped>\n",
       "    .dataframe tbody tr th:only-of-type {\n",
       "        vertical-align: middle;\n",
       "    }\n",
       "\n",
       "    .dataframe tbody tr th {\n",
       "        vertical-align: top;\n",
       "    }\n",
       "\n",
       "    .dataframe thead th {\n",
       "        text-align: right;\n",
       "    }\n",
       "</style>\n",
       "<table border=\"1\" class=\"dataframe\">\n",
       "  <thead>\n",
       "    <tr style=\"text-align: right;\">\n",
       "      <th></th>\n",
       "      <th>Product Name</th>\n",
       "      <th>Category</th>\n",
       "      <th>Description</th>\n",
       "      <th>Selling Price</th>\n",
       "      <th>Product Specification</th>\n",
       "      <th>Image</th>\n",
       "    </tr>\n",
       "  </thead>\n",
       "  <tbody>\n",
       "    <tr>\n",
       "      <th>0</th>\n",
       "      <td>amscan Festive Fall Thanksgiving Party Game Ac...</td>\n",
       "      <td>Toys &amp; Games | Party Supplies</td>\n",
       "      <td>It is the perfect activity for your guests on ...</td>\n",
       "      <td>$4.80</td>\n",
       "      <td>ProductDimensions:11.3x8.5x0.7inches|ItemWeigh...</td>\n",
       "      <td>https://images-na.ssl-images-amazon.com/images...</td>\n",
       "    </tr>\n",
       "  </tbody>\n",
       "</table>\n",
       "</div>"
      ],
      "text/plain": [
       "                                        Product Name  \\\n",
       "0  amscan Festive Fall Thanksgiving Party Game Ac...   \n",
       "\n",
       "                        Category  \\\n",
       "0  Toys & Games | Party Supplies   \n",
       "\n",
       "                                         Description Selling Price  \\\n",
       "0  It is the perfect activity for your guests on ...         $4.80   \n",
       "\n",
       "                               Product Specification  \\\n",
       "0  ProductDimensions:11.3x8.5x0.7inches|ItemWeigh...   \n",
       "\n",
       "                                               Image  \n",
       "0  https://images-na.ssl-images-amazon.com/images...  "
      ]
     },
     "execution_count": 169,
     "metadata": {},
     "output_type": "execute_result"
    }
   ],
   "source": [
    "df_test.head(1)"
   ]
  },
  {
   "cell_type": "code",
   "execution_count": 170,
   "metadata": {},
   "outputs": [
    {
     "data": {
      "text/html": [
       "<div>\n",
       "<style scoped>\n",
       "    .dataframe tbody tr th:only-of-type {\n",
       "        vertical-align: middle;\n",
       "    }\n",
       "\n",
       "    .dataframe tbody tr th {\n",
       "        vertical-align: top;\n",
       "    }\n",
       "\n",
       "    .dataframe thead th {\n",
       "        text-align: right;\n",
       "    }\n",
       "</style>\n",
       "<table border=\"1\" class=\"dataframe\">\n",
       "  <thead>\n",
       "    <tr style=\"text-align: right;\">\n",
       "      <th></th>\n",
       "      <th>Product Name</th>\n",
       "      <th>Category</th>\n",
       "      <th>Description</th>\n",
       "      <th>Selling Price</th>\n",
       "      <th>Product Specification</th>\n",
       "      <th>Image</th>\n",
       "    </tr>\n",
       "  </thead>\n",
       "  <tbody>\n",
       "    <tr>\n",
       "      <th>0</th>\n",
       "      <td>Sweet Jojo Designs Vintage Floral Boho Baby Ki...</td>\n",
       "      <td>Baby Products | Nursery | Furniture | Storage ...</td>\n",
       "      <td>Great Condition.</td>\n",
       "      <td>$39.99</td>\n",
       "      <td>None</td>\n",
       "      <td>https://images-na.ssl-images-amazon.com/images...</td>\n",
       "    </tr>\n",
       "  </tbody>\n",
       "</table>\n",
       "</div>"
      ],
      "text/plain": [
       "                                        Product Name  \\\n",
       "0  Sweet Jojo Designs Vintage Floral Boho Baby Ki...   \n",
       "\n",
       "                                            Category       Description  \\\n",
       "0  Baby Products | Nursery | Furniture | Storage ...  Great Condition.   \n",
       "\n",
       "  Selling Price Product Specification  \\\n",
       "0        $39.99                  None   \n",
       "\n",
       "                                               Image  \n",
       "0  https://images-na.ssl-images-amazon.com/images...  "
      ]
     },
     "execution_count": 170,
     "metadata": {},
     "output_type": "execute_result"
    }
   ],
   "source": [
    "df_eval.head(1)"
   ]
  },
  {
   "cell_type": "markdown",
   "metadata": {},
   "source": [
    "### Clean Text From The Data Frame"
   ]
  },
  {
   "cell_type": "code",
   "execution_count": 171,
   "metadata": {},
   "outputs": [],
   "source": [
    "def clean_text(text):\n",
    "    \"\"\"\n",
    "    Lowercase, remove special characters, and strip whitespace.\n",
    "    \"\"\"\n",
    "    \n",
    "    if pd.isna(text):\n",
    "        return \"\"\n",
    "\n",
    "    text = text.lower()\n",
    "    text = re.sub(r\"[^a-z0-9\\s]\", \"\", text)\n",
    "\n",
    "    return text.strip()"
   ]
  },
  {
   "cell_type": "code",
   "execution_count": 172,
   "metadata": {},
   "outputs": [],
   "source": [
    "df_train[\"Product Name\"] = df_train[\"Product Name\"].apply(clean_text)\n",
    "df_train[\"Description\"] = df_train[\"Description\"].apply(clean_text)"
   ]
  },
  {
   "cell_type": "code",
   "execution_count": 173,
   "metadata": {},
   "outputs": [],
   "source": [
    "df_test[\"Product Name\"] = df_test[\"Product Name\"].apply(clean_text)\n",
    "df_test[\"Description\"] = df_train[\"Description\"].apply(clean_text)"
   ]
  },
  {
   "cell_type": "code",
   "execution_count": 174,
   "metadata": {},
   "outputs": [],
   "source": [
    "df_eval[\"Product Name\"] = df_eval[\"Product Name\"].apply(clean_text)\n",
    "df_eval[\"Description\"] = df_eval[\"Description\"].apply(clean_text)"
   ]
  },
  {
   "cell_type": "markdown",
   "metadata": {},
   "source": [
    "### Process Categories"
   ]
  },
  {
   "cell_type": "code",
   "execution_count": 175,
   "metadata": {},
   "outputs": [],
   "source": [
    "def process_list(field):\n",
    "    \"\"\"\n",
    "    Split a ' | ' separated string into a structured list.\n",
    "    \"\"\"\n",
    "\n",
    "    if isinstance(field, str) and field.strip():\n",
    "        return field.split(\" | \")\n",
    "\n",
    "    if isinstance(field, (np.ndarray, list)):\n",
    "        field = \" | \".join(map(str, field))\n",
    "        return field.split(\" | \")\n",
    "\n",
    "    if pd.isna(field) or field == \"\":\n",
    "        return []\n",
    "\n",
    "    return []"
   ]
  },
  {
   "cell_type": "code",
   "execution_count": 176,
   "metadata": {},
   "outputs": [],
   "source": [
    "df_train[\"Category\"] = df_train[\"Category\"].apply(process_list)"
   ]
  },
  {
   "cell_type": "code",
   "execution_count": 177,
   "metadata": {},
   "outputs": [],
   "source": [
    "df_test[\"Category\"] = df_test[\"Category\"].apply(process_list)"
   ]
  },
  {
   "cell_type": "code",
   "execution_count": 178,
   "metadata": {},
   "outputs": [],
   "source": [
    "df_eval[\"Category\"] = df_eval[\"Category\"].apply(process_list)"
   ]
  },
  {
   "cell_type": "markdown",
   "metadata": {},
   "source": [
    "### Turn Price Into Numbers"
   ]
  },
  {
   "cell_type": "code",
   "execution_count": 179,
   "metadata": {},
   "outputs": [],
   "source": [
    "def turn_price(price):\n",
    "    if pd.isna(price):\n",
    "        return None\n",
    "\n",
    "    price_str = str(price)\n",
    "\n",
    "    match = re.search(r\"[\\d]+(\\.\\d+)?\", price_str)\n",
    "\n",
    "    if not match:\n",
    "        return None;\n",
    "\n",
    "    return float(match.group())"
   ]
  },
  {
   "cell_type": "code",
   "execution_count": 180,
   "metadata": {},
   "outputs": [],
   "source": [
    "df_train[\"Selling Price\"] = df_train[\"Selling Price\"].apply(turn_price)"
   ]
  },
  {
   "cell_type": "code",
   "execution_count": 181,
   "metadata": {},
   "outputs": [],
   "source": [
    "df_test[\"Selling Price\"] = df_test[\"Selling Price\"].apply(turn_price)"
   ]
  },
  {
   "cell_type": "code",
   "execution_count": 182,
   "metadata": {},
   "outputs": [],
   "source": [
    "df_eval[\"Selling Price\"] = df_eval[\"Selling Price\"].apply(turn_price)"
   ]
  },
  {
   "cell_type": "markdown",
   "metadata": {},
   "source": [
    "### Process Specification"
   ]
  },
  {
   "cell_type": "code",
   "execution_count": 183,
   "metadata": {},
   "outputs": [],
   "source": [
    "def process_specification(input_string):\n",
    "    if pd.isna(input_string):\n",
    "        return None\n",
    "    \n",
    "    array_of_strings = input_string.split(\"|\")\n",
    "\n",
    "    filtered_array = [item for item in array_of_strings if item and item.strip()]\n",
    "\n",
    "    key_value_pairs = []\n",
    "    for item in filtered_array:\n",
    "        if \":\" in item:\n",
    "            key_value_pairs.append(item.split(\":\"))\n",
    "        else:\n",
    "            key_value_pairs.append(\n",
    "                [item, None]\n",
    "            )\n",
    "\n",
    "    return key_value_pairs"
   ]
  },
  {
   "cell_type": "code",
   "execution_count": 184,
   "metadata": {},
   "outputs": [],
   "source": [
    "df_train[\"Product Specification\"] = df_train[\"Product Specification\"].apply(\n",
    "    process_specification\n",
    ")"
   ]
  },
  {
   "cell_type": "code",
   "execution_count": 185,
   "metadata": {},
   "outputs": [],
   "source": [
    "df_test[\"Product Specification\"] = df_test[\"Product Specification\"].apply(\n",
    "    process_specification\n",
    ")"
   ]
  },
  {
   "cell_type": "code",
   "execution_count": 186,
   "metadata": {},
   "outputs": [],
   "source": [
    "df_eval[\"Product Specification\"] = df_eval[\"Product Specification\"].apply(\n",
    "    process_specification\n",
    ")"
   ]
  },
  {
   "cell_type": "markdown",
   "metadata": {},
   "source": [
    "### Visualized Preprocessed Data"
   ]
  },
  {
   "cell_type": "code",
   "execution_count": 187,
   "metadata": {},
   "outputs": [
    {
     "data": {
      "text/html": [
       "<div>\n",
       "<style scoped>\n",
       "    .dataframe tbody tr th:only-of-type {\n",
       "        vertical-align: middle;\n",
       "    }\n",
       "\n",
       "    .dataframe tbody tr th {\n",
       "        vertical-align: top;\n",
       "    }\n",
       "\n",
       "    .dataframe thead th {\n",
       "        text-align: right;\n",
       "    }\n",
       "</style>\n",
       "<table border=\"1\" class=\"dataframe\">\n",
       "  <thead>\n",
       "    <tr style=\"text-align: right;\">\n",
       "      <th></th>\n",
       "      <th>Product Name</th>\n",
       "      <th>Category</th>\n",
       "      <th>Description</th>\n",
       "      <th>Selling Price</th>\n",
       "      <th>Product Specification</th>\n",
       "      <th>Image</th>\n",
       "    </tr>\n",
       "  </thead>\n",
       "  <tbody>\n",
       "    <tr>\n",
       "      <th>0</th>\n",
       "      <td>crafttastic  empower poster  craft kit  design...</td>\n",
       "      <td>[Toys &amp; Games, Arts &amp; Crafts, Craft Kits, Pape...</td>\n",
       "      <td>perfect gift for ages 8 and above make this fe...</td>\n",
       "      <td>14.47</td>\n",
       "      <td>[[ProductDimensions, 3x10x15inches], [ItemWeig...</td>\n",
       "      <td>https://images-na.ssl-images-amazon.com/images...</td>\n",
       "    </tr>\n",
       "    <tr>\n",
       "      <th>1</th>\n",
       "      <td>melissa  doug dottodot  letter coloring pad 3 ...</td>\n",
       "      <td>[Toys &amp; Games, Games &amp; Accessories, Board Games]</td>\n",
       "      <td>3 jumbo connectthedots coloring pads abc farm ...</td>\n",
       "      <td>12.74</td>\n",
       "      <td>[[ProductDimensions, 11x0.8x14inches], [ItemWe...</td>\n",
       "      <td>https://images-na.ssl-images-amazon.com/images...</td>\n",
       "    </tr>\n",
       "    <tr>\n",
       "      <th>2</th>\n",
       "      <td>rpm rear shock tower for the nitro slash nitro...</td>\n",
       "      <td>[Toys &amp; Games, Hobbies, Remote &amp; App Controlle...</td>\n",
       "      <td>great condition</td>\n",
       "      <td>9.06</td>\n",
       "      <td>[[ProductDimensions, 5.9x4x0.4inches], [ItemWe...</td>\n",
       "      <td>https://images-na.ssl-images-amazon.com/images...</td>\n",
       "    </tr>\n",
       "    <tr>\n",
       "      <th>3</th>\n",
       "      <td>disney pixar cars mini racers crank  crash der...</td>\n",
       "      <td>[Toys &amp; Games, Play Vehicles, Toy Vehicles]</td>\n",
       "      <td>disneypixar cars 3 new crazy 8 track</td>\n",
       "      <td>27.85</td>\n",
       "      <td>[[ProductDimensions, 2.9x14x10inches], [ItemWe...</td>\n",
       "      <td>https://images-na.ssl-images-amazon.com/images...</td>\n",
       "    </tr>\n",
       "    <tr>\n",
       "      <th>4</th>\n",
       "      <td>areaware cubebot small</td>\n",
       "      <td>[Toys &amp; Games, Puzzles, Brain Teasers, Assembl...</td>\n",
       "      <td>great condition</td>\n",
       "      <td>28.92</td>\n",
       "      <td>None</td>\n",
       "      <td>https://images-na.ssl-images-amazon.com/images...</td>\n",
       "    </tr>\n",
       "  </tbody>\n",
       "</table>\n",
       "</div>"
      ],
      "text/plain": [
       "                                        Product Name  \\\n",
       "0  crafttastic  empower poster  craft kit  design...   \n",
       "1  melissa  doug dottodot  letter coloring pad 3 ...   \n",
       "2  rpm rear shock tower for the nitro slash nitro...   \n",
       "3  disney pixar cars mini racers crank  crash der...   \n",
       "4                             areaware cubebot small   \n",
       "\n",
       "                                            Category  \\\n",
       "0  [Toys & Games, Arts & Crafts, Craft Kits, Pape...   \n",
       "1   [Toys & Games, Games & Accessories, Board Games]   \n",
       "2  [Toys & Games, Hobbies, Remote & App Controlle...   \n",
       "3        [Toys & Games, Play Vehicles, Toy Vehicles]   \n",
       "4  [Toys & Games, Puzzles, Brain Teasers, Assembl...   \n",
       "\n",
       "                                         Description  Selling Price  \\\n",
       "0  perfect gift for ages 8 and above make this fe...          14.47   \n",
       "1  3 jumbo connectthedots coloring pads abc farm ...          12.74   \n",
       "2                                    great condition           9.06   \n",
       "3               disneypixar cars 3 new crazy 8 track          27.85   \n",
       "4                                    great condition          28.92   \n",
       "\n",
       "                               Product Specification  \\\n",
       "0  [[ProductDimensions, 3x10x15inches], [ItemWeig...   \n",
       "1  [[ProductDimensions, 11x0.8x14inches], [ItemWe...   \n",
       "2  [[ProductDimensions, 5.9x4x0.4inches], [ItemWe...   \n",
       "3  [[ProductDimensions, 2.9x14x10inches], [ItemWe...   \n",
       "4                                               None   \n",
       "\n",
       "                                               Image  \n",
       "0  https://images-na.ssl-images-amazon.com/images...  \n",
       "1  https://images-na.ssl-images-amazon.com/images...  \n",
       "2  https://images-na.ssl-images-amazon.com/images...  \n",
       "3  https://images-na.ssl-images-amazon.com/images...  \n",
       "4  https://images-na.ssl-images-amazon.com/images...  "
      ]
     },
     "execution_count": 187,
     "metadata": {},
     "output_type": "execute_result"
    }
   ],
   "source": [
    "df_train.head()"
   ]
  },
  {
   "cell_type": "code",
   "execution_count": 188,
   "metadata": {},
   "outputs": [
    {
     "data": {
      "text/html": [
       "<div>\n",
       "<style scoped>\n",
       "    .dataframe tbody tr th:only-of-type {\n",
       "        vertical-align: middle;\n",
       "    }\n",
       "\n",
       "    .dataframe tbody tr th {\n",
       "        vertical-align: top;\n",
       "    }\n",
       "\n",
       "    .dataframe thead th {\n",
       "        text-align: right;\n",
       "    }\n",
       "</style>\n",
       "<table border=\"1\" class=\"dataframe\">\n",
       "  <thead>\n",
       "    <tr style=\"text-align: right;\">\n",
       "      <th></th>\n",
       "      <th>Product Name</th>\n",
       "      <th>Category</th>\n",
       "      <th>Description</th>\n",
       "      <th>Selling Price</th>\n",
       "      <th>Product Specification</th>\n",
       "      <th>Image</th>\n",
       "    </tr>\n",
       "  </thead>\n",
       "  <tbody>\n",
       "    <tr>\n",
       "      <th>0</th>\n",
       "      <td>amscan festive fall thanksgiving party game ac...</td>\n",
       "      <td>[Toys &amp; Games, Party Supplies]</td>\n",
       "      <td>perfect gift for ages 8 and above make this fe...</td>\n",
       "      <td>4.80</td>\n",
       "      <td>[[ProductDimensions, 11.3x8.5x0.7inches], [Ite...</td>\n",
       "      <td>https://images-na.ssl-images-amazon.com/images...</td>\n",
       "    </tr>\n",
       "    <tr>\n",
       "      <th>1</th>\n",
       "      <td>gmp 118 home improvement 199199 tv series  199...</td>\n",
       "      <td>[Toys &amp; Games, Dress Up &amp; Pretend Play, Preten...</td>\n",
       "      <td>3 jumbo connectthedots coloring pads abc farm ...</td>\n",
       "      <td>139.95</td>\n",
       "      <td>[[ProductDimensions, 9.5x4x2.5inches], [ItemWe...</td>\n",
       "      <td>https://images-na.ssl-images-amazon.com/images...</td>\n",
       "    </tr>\n",
       "    <tr>\n",
       "      <th>2</th>\n",
       "      <td>manhattan toy wimmerferguson double sided 3in1...</td>\n",
       "      <td>[Toys &amp; Games, Baby &amp; Toddler Toys, Car Seat &amp;...</td>\n",
       "      <td>great condition</td>\n",
       "      <td>15.39</td>\n",
       "      <td>[[ProductDimensions, 12.2x12x3inches], [ItemWe...</td>\n",
       "      <td>https://images-na.ssl-images-amazon.com/images...</td>\n",
       "    </tr>\n",
       "    <tr>\n",
       "      <th>3</th>\n",
       "      <td>whamo slip n slide wave rider 16</td>\n",
       "      <td>[Toys &amp; Games, Sports &amp; Outdoor Play, Pools &amp; ...</td>\n",
       "      <td>disneypixar cars 3 new crazy 8 track</td>\n",
       "      <td>16.19</td>\n",
       "      <td>[[ProductDimensions, 11.8x10.5x2inches], [Item...</td>\n",
       "      <td>https://images-na.ssl-images-amazon.com/images...</td>\n",
       "    </tr>\n",
       "    <tr>\n",
       "      <th>4</th>\n",
       "      <td>wow stuff collection harry potter wingardium l...</td>\n",
       "      <td>[Toys &amp; Games, Novelty &amp; Gag Toys]</td>\n",
       "      <td>great condition</td>\n",
       "      <td>15.51</td>\n",
       "      <td>[[ProductDimensions, 7x0.2x0.2inches], [ItemWe...</td>\n",
       "      <td>https://images-na.ssl-images-amazon.com/images...</td>\n",
       "    </tr>\n",
       "  </tbody>\n",
       "</table>\n",
       "</div>"
      ],
      "text/plain": [
       "                                        Product Name  \\\n",
       "0  amscan festive fall thanksgiving party game ac...   \n",
       "1  gmp 118 home improvement 199199 tv series  199...   \n",
       "2  manhattan toy wimmerferguson double sided 3in1...   \n",
       "3                   whamo slip n slide wave rider 16   \n",
       "4  wow stuff collection harry potter wingardium l...   \n",
       "\n",
       "                                            Category  \\\n",
       "0                     [Toys & Games, Party Supplies]   \n",
       "1  [Toys & Games, Dress Up & Pretend Play, Preten...   \n",
       "2  [Toys & Games, Baby & Toddler Toys, Car Seat &...   \n",
       "3  [Toys & Games, Sports & Outdoor Play, Pools & ...   \n",
       "4                 [Toys & Games, Novelty & Gag Toys]   \n",
       "\n",
       "                                         Description  Selling Price  \\\n",
       "0  perfect gift for ages 8 and above make this fe...           4.80   \n",
       "1  3 jumbo connectthedots coloring pads abc farm ...         139.95   \n",
       "2                                    great condition          15.39   \n",
       "3               disneypixar cars 3 new crazy 8 track          16.19   \n",
       "4                                    great condition          15.51   \n",
       "\n",
       "                               Product Specification  \\\n",
       "0  [[ProductDimensions, 11.3x8.5x0.7inches], [Ite...   \n",
       "1  [[ProductDimensions, 9.5x4x2.5inches], [ItemWe...   \n",
       "2  [[ProductDimensions, 12.2x12x3inches], [ItemWe...   \n",
       "3  [[ProductDimensions, 11.8x10.5x2inches], [Item...   \n",
       "4  [[ProductDimensions, 7x0.2x0.2inches], [ItemWe...   \n",
       "\n",
       "                                               Image  \n",
       "0  https://images-na.ssl-images-amazon.com/images...  \n",
       "1  https://images-na.ssl-images-amazon.com/images...  \n",
       "2  https://images-na.ssl-images-amazon.com/images...  \n",
       "3  https://images-na.ssl-images-amazon.com/images...  \n",
       "4  https://images-na.ssl-images-amazon.com/images...  "
      ]
     },
     "execution_count": 188,
     "metadata": {},
     "output_type": "execute_result"
    }
   ],
   "source": [
    "df_test.head()"
   ]
  },
  {
   "cell_type": "code",
   "execution_count": 189,
   "metadata": {},
   "outputs": [
    {
     "data": {
      "text/html": [
       "<div>\n",
       "<style scoped>\n",
       "    .dataframe tbody tr th:only-of-type {\n",
       "        vertical-align: middle;\n",
       "    }\n",
       "\n",
       "    .dataframe tbody tr th {\n",
       "        vertical-align: top;\n",
       "    }\n",
       "\n",
       "    .dataframe thead th {\n",
       "        text-align: right;\n",
       "    }\n",
       "</style>\n",
       "<table border=\"1\" class=\"dataframe\">\n",
       "  <thead>\n",
       "    <tr style=\"text-align: right;\">\n",
       "      <th></th>\n",
       "      <th>Product Name</th>\n",
       "      <th>Category</th>\n",
       "      <th>Description</th>\n",
       "      <th>Selling Price</th>\n",
       "      <th>Product Specification</th>\n",
       "      <th>Image</th>\n",
       "    </tr>\n",
       "  </thead>\n",
       "  <tbody>\n",
       "    <tr>\n",
       "      <th>0</th>\n",
       "      <td>sweet jojo designs vintage floral boho baby ki...</td>\n",
       "      <td>[Baby Products, Nursery, Furniture, Storage &amp; ...</td>\n",
       "      <td>great condition</td>\n",
       "      <td>39.99</td>\n",
       "      <td>None</td>\n",
       "      <td>https://images-na.ssl-images-amazon.com/images...</td>\n",
       "    </tr>\n",
       "    <tr>\n",
       "      <th>1</th>\n",
       "      <td>ultimate guard deck box sidewinder 80 chromias...</td>\n",
       "      <td>[Toys &amp; Games, Collectible Toys, Collectible D...</td>\n",
       "      <td>additional visual protection you will clearly ...</td>\n",
       "      <td>19.14</td>\n",
       "      <td>[[ProductDimensions, 3x3.8x3inches], [ItemWeig...</td>\n",
       "      <td>https://images-na.ssl-images-amazon.com/images...</td>\n",
       "    </tr>\n",
       "    <tr>\n",
       "      <th>2</th>\n",
       "      <td>xshot chaos orbit dart ball blaster 100 rounds...</td>\n",
       "      <td>[Toys &amp; Games, Sports &amp; Outdoor Play, Blasters...</td>\n",
       "      <td>chaos orbit ultimate blaster pack the xshot ch...</td>\n",
       "      <td>39.99</td>\n",
       "      <td>[[ProductDimensions, 9.8x4.3x23.4inches], [Ite...</td>\n",
       "      <td>https://images-na.ssl-images-amazon.com/images...</td>\n",
       "    </tr>\n",
       "    <tr>\n",
       "      <th>3</th>\n",
       "      <td>benjonah throw blankets perfect for the fall  ...</td>\n",
       "      <td>[Home &amp; Kitchen, Bedding, Kids' Bedding, Blank...</td>\n",
       "      <td>celebrate the fall and winter season with the ...</td>\n",
       "      <td>24.45</td>\n",
       "      <td>[[ProductDimensions, 60x50x0.5inches], [ItemWe...</td>\n",
       "      <td>https://images-na.ssl-images-amazon.com/images...</td>\n",
       "    </tr>\n",
       "    <tr>\n",
       "      <th>4</th>\n",
       "      <td>banzai battle blast adventure inflatable water...</td>\n",
       "      <td>[Toys &amp; Games, Sports &amp; Outdoor Play, Pools &amp; ...</td>\n",
       "      <td>15l x 1110w x 8h inflatable water park</td>\n",
       "      <td>349.99</td>\n",
       "      <td>[[ProductDimensions, 180x142x96inches], [ItemW...</td>\n",
       "      <td>https://images-na.ssl-images-amazon.com/images...</td>\n",
       "    </tr>\n",
       "  </tbody>\n",
       "</table>\n",
       "</div>"
      ],
      "text/plain": [
       "                                        Product Name  \\\n",
       "0  sweet jojo designs vintage floral boho baby ki...   \n",
       "1  ultimate guard deck box sidewinder 80 chromias...   \n",
       "2  xshot chaos orbit dart ball blaster 100 rounds...   \n",
       "3  benjonah throw blankets perfect for the fall  ...   \n",
       "4  banzai battle blast adventure inflatable water...   \n",
       "\n",
       "                                            Category  \\\n",
       "0  [Baby Products, Nursery, Furniture, Storage & ...   \n",
       "1  [Toys & Games, Collectible Toys, Collectible D...   \n",
       "2  [Toys & Games, Sports & Outdoor Play, Blasters...   \n",
       "3  [Home & Kitchen, Bedding, Kids' Bedding, Blank...   \n",
       "4  [Toys & Games, Sports & Outdoor Play, Pools & ...   \n",
       "\n",
       "                                         Description  Selling Price  \\\n",
       "0                                    great condition          39.99   \n",
       "1  additional visual protection you will clearly ...          19.14   \n",
       "2  chaos orbit ultimate blaster pack the xshot ch...          39.99   \n",
       "3  celebrate the fall and winter season with the ...          24.45   \n",
       "4             15l x 1110w x 8h inflatable water park         349.99   \n",
       "\n",
       "                               Product Specification  \\\n",
       "0                                               None   \n",
       "1  [[ProductDimensions, 3x3.8x3inches], [ItemWeig...   \n",
       "2  [[ProductDimensions, 9.8x4.3x23.4inches], [Ite...   \n",
       "3  [[ProductDimensions, 60x50x0.5inches], [ItemWe...   \n",
       "4  [[ProductDimensions, 180x142x96inches], [ItemW...   \n",
       "\n",
       "                                               Image  \n",
       "0  https://images-na.ssl-images-amazon.com/images...  \n",
       "1  https://images-na.ssl-images-amazon.com/images...  \n",
       "2  https://images-na.ssl-images-amazon.com/images...  \n",
       "3  https://images-na.ssl-images-amazon.com/images...  \n",
       "4  https://images-na.ssl-images-amazon.com/images...  "
      ]
     },
     "execution_count": 189,
     "metadata": {},
     "output_type": "execute_result"
    }
   ],
   "source": [
    "df_eval.head()"
   ]
  },
  {
   "cell_type": "markdown",
   "metadata": {},
   "source": [
    "### Save Preprocess Data Frame"
   ]
  },
  {
   "cell_type": "code",
   "execution_count": 190,
   "metadata": {},
   "outputs": [],
   "source": [
    "df_train.to_csv(\"../datasets/train.csv\")"
   ]
  },
  {
   "cell_type": "code",
   "execution_count": 191,
   "metadata": {},
   "outputs": [],
   "source": [
    "df_test.to_csv(\"../datasets/test.csv\")"
   ]
  },
  {
   "cell_type": "code",
   "execution_count": 192,
   "metadata": {},
   "outputs": [],
   "source": [
    "df_eval.to_csv(\"../datasets/eval.csv\")"
   ]
  },
  {
   "cell_type": "code",
   "execution_count": null,
   "metadata": {},
   "outputs": [],
   "source": []
  }
 ],
 "metadata": {
  "kernelspec": {
   "display_name": "venv",
   "language": "python",
   "name": "python3"
  },
  "language_info": {
   "codemirror_mode": {
    "name": "ipython",
    "version": 3
   },
   "file_extension": ".py",
   "mimetype": "text/x-python",
   "name": "python",
   "nbconvert_exporter": "python",
   "pygments_lexer": "ipython3",
   "version": "3.13.2"
  }
 },
 "nbformat": 4,
 "nbformat_minor": 2
}
