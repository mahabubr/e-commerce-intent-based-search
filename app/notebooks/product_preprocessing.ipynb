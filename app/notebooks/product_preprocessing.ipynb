{
 "cells": [
  {
   "cell_type": "markdown",
   "metadata": {},
   "source": [
    "### Import Libraries"
   ]
  },
  {
   "cell_type": "code",
   "execution_count": 3,
   "metadata": {},
   "outputs": [],
   "source": [
    "import pandas as pd\n",
    "import numpy as np\n",
    "from datasets import load_dataset\n",
    "import re"
   ]
  },
  {
   "cell_type": "markdown",
   "metadata": {},
   "source": [
    "### Download Dataset From Hugging Face"
   ]
  },
  {
   "cell_type": "code",
   "execution_count": 4,
   "metadata": {},
   "outputs": [],
   "source": [
    "ds = load_dataset(\"ckandemir/amazon-products\")"
   ]
  },
  {
   "cell_type": "code",
   "execution_count": 5,
   "metadata": {},
   "outputs": [
    {
     "data": {
      "text/plain": [
       "DatasetDict({\n",
       "    train: Dataset({\n",
       "        features: ['Product Name', 'Category', 'Description', 'Selling Price', 'Product Specification', 'Image'],\n",
       "        num_rows: 23993\n",
       "    })\n",
       "    test: Dataset({\n",
       "        features: ['Product Name', 'Category', 'Description', 'Selling Price', 'Product Specification', 'Image'],\n",
       "        num_rows: 6665\n",
       "    })\n",
       "    eval: Dataset({\n",
       "        features: ['Product Name', 'Category', 'Description', 'Selling Price', 'Product Specification', 'Image'],\n",
       "        num_rows: 2666\n",
       "    })\n",
       "})"
      ]
     },
     "execution_count": 5,
     "metadata": {},
     "output_type": "execute_result"
    }
   ],
   "source": [
    "ds"
   ]
  },
  {
   "cell_type": "markdown",
   "metadata": {},
   "source": [
    "### Merge Train, Test and Eval"
   ]
  },
  {
   "cell_type": "code",
   "execution_count": 7,
   "metadata": {},
   "outputs": [],
   "source": [
    "df_train = pd.DataFrame(ds[\"train\"])\n",
    "df_test = pd.DataFrame(ds[\"test\"])\n",
    "df_eval = pd.DataFrame(ds[\"eval\"])"
   ]
  },
  {
   "cell_type": "code",
   "execution_count": 11,
   "metadata": {},
   "outputs": [],
   "source": [
    "df = pd.concat([df_train, df_test, df_eval], ignore_index=True)"
   ]
  },
  {
   "cell_type": "code",
   "execution_count": 12,
   "metadata": {},
   "outputs": [
    {
     "data": {
      "text/html": [
       "<div>\n",
       "<style scoped>\n",
       "    .dataframe tbody tr th:only-of-type {\n",
       "        vertical-align: middle;\n",
       "    }\n",
       "\n",
       "    .dataframe tbody tr th {\n",
       "        vertical-align: top;\n",
       "    }\n",
       "\n",
       "    .dataframe thead th {\n",
       "        text-align: right;\n",
       "    }\n",
       "</style>\n",
       "<table border=\"1\" class=\"dataframe\">\n",
       "  <thead>\n",
       "    <tr style=\"text-align: right;\">\n",
       "      <th></th>\n",
       "      <th>Product Name</th>\n",
       "      <th>Category</th>\n",
       "      <th>Description</th>\n",
       "      <th>Selling Price</th>\n",
       "      <th>Product Specification</th>\n",
       "      <th>Image</th>\n",
       "    </tr>\n",
       "  </thead>\n",
       "  <tbody>\n",
       "    <tr>\n",
       "      <th>0</th>\n",
       "      <td>Craft-tastic – Empower Poster – Craft Kit – De...</td>\n",
       "      <td>Toys &amp; Games | Arts &amp; Crafts | Craft Kits | Pa...</td>\n",
       "      <td>PERFECT GIFT FOR AGES 8 AND ABOVE: Make this f...</td>\n",
       "      <td>$14.47</td>\n",
       "      <td>ProductDimensions:3x10x15inches|ItemWeight:15....</td>\n",
       "      <td>https://images-na.ssl-images-amazon.com/images...</td>\n",
       "    </tr>\n",
       "  </tbody>\n",
       "</table>\n",
       "</div>"
      ],
      "text/plain": [
       "                                        Product Name  \\\n",
       "0  Craft-tastic – Empower Poster – Craft Kit – De...   \n",
       "\n",
       "                                            Category  \\\n",
       "0  Toys & Games | Arts & Crafts | Craft Kits | Pa...   \n",
       "\n",
       "                                         Description Selling Price  \\\n",
       "0  PERFECT GIFT FOR AGES 8 AND ABOVE: Make this f...        $14.47   \n",
       "\n",
       "                               Product Specification  \\\n",
       "0  ProductDimensions:3x10x15inches|ItemWeight:15....   \n",
       "\n",
       "                                               Image  \n",
       "0  https://images-na.ssl-images-amazon.com/images...  "
      ]
     },
     "execution_count": 12,
     "metadata": {},
     "output_type": "execute_result"
    }
   ],
   "source": [
    "df.head(1)"
   ]
  },
  {
   "cell_type": "code",
   "execution_count": 13,
   "metadata": {},
   "outputs": [
    {
     "data": {
      "text/plain": [
       "33324"
      ]
     },
     "execution_count": 13,
     "metadata": {},
     "output_type": "execute_result"
    }
   ],
   "source": [
    "len(df)"
   ]
  },
  {
   "cell_type": "markdown",
   "metadata": {},
   "source": [
    "### Clean Text From The Data Frame"
   ]
  },
  {
   "cell_type": "code",
   "execution_count": 14,
   "metadata": {},
   "outputs": [],
   "source": [
    "def clean_text(text):\n",
    "    \"\"\"\n",
    "    Lowercase, remove special characters, and strip whitespace.\n",
    "    \"\"\"\n",
    "    \n",
    "    if pd.isna(text):\n",
    "        return \"\"\n",
    "\n",
    "    text = text.lower()\n",
    "    text = re.sub(r\"[^a-z0-9\\s]\", \"\", text)\n",
    "\n",
    "    return text.strip()"
   ]
  },
  {
   "cell_type": "code",
   "execution_count": 15,
   "metadata": {},
   "outputs": [],
   "source": [
    "df[\"Product Name\"] = df[\"Product Name\"].apply(clean_text)\n",
    "df[\"Description\"] = df[\"Description\"].apply(clean_text)"
   ]
  },
  {
   "cell_type": "markdown",
   "metadata": {},
   "source": [
    "### Process Categories"
   ]
  },
  {
   "cell_type": "code",
   "execution_count": 17,
   "metadata": {},
   "outputs": [],
   "source": [
    "def process_list(field):\n",
    "    \"\"\"\n",
    "    Split a ' | ' separated string into a structured list.\n",
    "    \"\"\"\n",
    "\n",
    "    if isinstance(field, str) and field.strip():\n",
    "        return field.split(\" | \")\n",
    "\n",
    "    if isinstance(field, (np.ndarray, list)):\n",
    "        field = \" | \".join(map(str, field))\n",
    "        return field.split(\" | \")\n",
    "\n",
    "    if pd.isna(field) or field == \"\":\n",
    "        return []\n",
    "\n",
    "    return []"
   ]
  },
  {
   "cell_type": "code",
   "execution_count": 19,
   "metadata": {},
   "outputs": [],
   "source": [
    "df[\"Category\"] = df[\"Category\"].apply(process_list)"
   ]
  },
  {
   "cell_type": "markdown",
   "metadata": {},
   "source": [
    "### Turn Price Into Numbers"
   ]
  },
  {
   "cell_type": "code",
   "execution_count": 20,
   "metadata": {},
   "outputs": [],
   "source": [
    "def turn_price(price):\n",
    "    if pd.isna(price):\n",
    "        return None\n",
    "\n",
    "    price_str = str(price)\n",
    "\n",
    "    match = re.search(r\"[\\d]+(\\.\\d+)?\", price_str)\n",
    "\n",
    "    if not match:\n",
    "        return None;\n",
    "\n",
    "    return float(match.group())"
   ]
  },
  {
   "cell_type": "code",
   "execution_count": 21,
   "metadata": {},
   "outputs": [],
   "source": [
    "df[\"Selling Price\"] = df[\"Selling Price\"].apply(turn_price)"
   ]
  },
  {
   "cell_type": "markdown",
   "metadata": {},
   "source": [
    "### Process Specification"
   ]
  },
  {
   "cell_type": "code",
   "execution_count": 22,
   "metadata": {},
   "outputs": [],
   "source": [
    "def process_specification(raw_specifications):\n",
    "    if pd.isna(raw_specifications):\n",
    "        return None\n",
    "\n",
    "    clean_specifications = re.sub(r\"\\(.*\\)\", \"\", raw_specifications)\n",
    "    specifications = clean_specifications.split(\"|\")\n",
    "\n",
    "    data = {}\n",
    "\n",
    "    for spec in specifications:\n",
    "        if \":\" not in spec:\n",
    "            continue  \n",
    "\n",
    "        key, value = spec.split(\":\", 1)\n",
    "\n",
    "        if key == \"ProductDimensions\":\n",
    "            data[\"Dimensions\"] = value.replace(\"inches\", \"\").strip()\n",
    "\n",
    "        elif key == \"ItemWeight\" or key == \"ShippingWeight\":\n",
    "            match = re.match(r\"([0-9\\.]+)\", value)\n",
    "            if match:\n",
    "                numeric_value = match.group(1)\n",
    "                if numeric_value and numeric_value != \".\":\n",
    "                    data[key] = float(\n",
    "                        numeric_value\n",
    "                    ) \n",
    "                else:\n",
    "                    data[key] = None \n",
    "\n",
    "        elif key == \"ASIN\":\n",
    "            data[\"ASIN\"] = value.strip()\n",
    "        elif key == \"Itemmodelnumber\":\n",
    "            data[\"ItemModelNumber\"] = value.strip()\n",
    "\n",
    "        elif key == \"Manufacturerrecommendedage\":\n",
    "            data[\"RecommendedAge\"] = value.strip()\n",
    "\n",
    "    return data"
   ]
  },
  {
   "cell_type": "code",
   "execution_count": 23,
   "metadata": {},
   "outputs": [],
   "source": [
    "processed_data = df[\"Product Specification\"].apply(process_specification)\n",
    "processed_df = pd.json_normalize(processed_data)\n",
    "\n",
    "df = pd.concat([df, processed_df], axis=1)\n",
    "\n",
    "df.drop(columns=[\"Product Specification\"], inplace=True)"
   ]
  },
  {
   "cell_type": "markdown",
   "metadata": {},
   "source": [
    "### Visualized Preprocessed Data"
   ]
  },
  {
   "cell_type": "code",
   "execution_count": 24,
   "metadata": {},
   "outputs": [
    {
     "data": {
      "text/html": [
       "<div>\n",
       "<style scoped>\n",
       "    .dataframe tbody tr th:only-of-type {\n",
       "        vertical-align: middle;\n",
       "    }\n",
       "\n",
       "    .dataframe tbody tr th {\n",
       "        vertical-align: top;\n",
       "    }\n",
       "\n",
       "    .dataframe thead th {\n",
       "        text-align: right;\n",
       "    }\n",
       "</style>\n",
       "<table border=\"1\" class=\"dataframe\">\n",
       "  <thead>\n",
       "    <tr style=\"text-align: right;\">\n",
       "      <th></th>\n",
       "      <th>Product Name</th>\n",
       "      <th>Category</th>\n",
       "      <th>Description</th>\n",
       "      <th>Selling Price</th>\n",
       "      <th>Image</th>\n",
       "      <th>Dimensions</th>\n",
       "      <th>ItemWeight</th>\n",
       "      <th>ShippingWeight</th>\n",
       "      <th>ASIN</th>\n",
       "      <th>ItemModelNumber</th>\n",
       "      <th>RecommendedAge</th>\n",
       "    </tr>\n",
       "  </thead>\n",
       "  <tbody>\n",
       "    <tr>\n",
       "      <th>0</th>\n",
       "      <td>crafttastic  empower poster  craft kit  design...</td>\n",
       "      <td>[Toys &amp; Games, Arts &amp; Crafts, Craft Kits, Pape...</td>\n",
       "      <td>perfect gift for ages 8 and above make this fe...</td>\n",
       "      <td>14.47</td>\n",
       "      <td>https://images-na.ssl-images-amazon.com/images...</td>\n",
       "      <td>3x10x15</td>\n",
       "      <td>15.20</td>\n",
       "      <td>15.20</td>\n",
       "      <td>B01D52Q1UC</td>\n",
       "      <td>CT1688</td>\n",
       "      <td>8-15years</td>\n",
       "    </tr>\n",
       "    <tr>\n",
       "      <th>1</th>\n",
       "      <td>melissa  doug dottodot  letter coloring pad 3 ...</td>\n",
       "      <td>[Toys &amp; Games, Games &amp; Accessories, Board Games]</td>\n",
       "      <td>3 jumbo connectthedots coloring pads abc farm ...</td>\n",
       "      <td>12.74</td>\n",
       "      <td>https://images-na.ssl-images-amazon.com/images...</td>\n",
       "      <td>11x0.8x14</td>\n",
       "      <td>3.25</td>\n",
       "      <td>3.25</td>\n",
       "      <td>B07ZG7QYR5</td>\n",
       "      <td>97076</td>\n",
       "      <td>4-6years</td>\n",
       "    </tr>\n",
       "    <tr>\n",
       "      <th>2</th>\n",
       "      <td>rpm rear shock tower for the nitro slash nitro...</td>\n",
       "      <td>[Toys &amp; Games, Hobbies, Remote &amp; App Controlle...</td>\n",
       "      <td>great condition</td>\n",
       "      <td>9.06</td>\n",
       "      <td>https://images-na.ssl-images-amazon.com/images...</td>\n",
       "      <td>5.9x4x0.4</td>\n",
       "      <td>0.32</td>\n",
       "      <td>0.32</td>\n",
       "      <td>B000VQML1O</td>\n",
       "      <td>RPM80862</td>\n",
       "      <td>16yearsandup</td>\n",
       "    </tr>\n",
       "    <tr>\n",
       "      <th>3</th>\n",
       "      <td>disney pixar cars mini racers crank  crash der...</td>\n",
       "      <td>[Toys &amp; Games, Play Vehicles, Toy Vehicles]</td>\n",
       "      <td>disneypixar cars 3 new crazy 8 track</td>\n",
       "      <td>27.85</td>\n",
       "      <td>https://images-na.ssl-images-amazon.com/images...</td>\n",
       "      <td>2.9x14x10</td>\n",
       "      <td>1.57</td>\n",
       "      <td>1.76</td>\n",
       "      <td>B076FLF7CC</td>\n",
       "      <td>FLG71</td>\n",
       "      <td>4-8years</td>\n",
       "    </tr>\n",
       "    <tr>\n",
       "      <th>4</th>\n",
       "      <td>areaware cubebot small</td>\n",
       "      <td>[Toys &amp; Games, Puzzles, Brain Teasers, Assembl...</td>\n",
       "      <td>great condition</td>\n",
       "      <td>28.92</td>\n",
       "      <td>https://images-na.ssl-images-amazon.com/images...</td>\n",
       "      <td>NaN</td>\n",
       "      <td>NaN</td>\n",
       "      <td>NaN</td>\n",
       "      <td>NaN</td>\n",
       "      <td>NaN</td>\n",
       "      <td>NaN</td>\n",
       "    </tr>\n",
       "  </tbody>\n",
       "</table>\n",
       "</div>"
      ],
      "text/plain": [
       "                                        Product Name  \\\n",
       "0  crafttastic  empower poster  craft kit  design...   \n",
       "1  melissa  doug dottodot  letter coloring pad 3 ...   \n",
       "2  rpm rear shock tower for the nitro slash nitro...   \n",
       "3  disney pixar cars mini racers crank  crash der...   \n",
       "4                             areaware cubebot small   \n",
       "\n",
       "                                            Category  \\\n",
       "0  [Toys & Games, Arts & Crafts, Craft Kits, Pape...   \n",
       "1   [Toys & Games, Games & Accessories, Board Games]   \n",
       "2  [Toys & Games, Hobbies, Remote & App Controlle...   \n",
       "3        [Toys & Games, Play Vehicles, Toy Vehicles]   \n",
       "4  [Toys & Games, Puzzles, Brain Teasers, Assembl...   \n",
       "\n",
       "                                         Description  Selling Price  \\\n",
       "0  perfect gift for ages 8 and above make this fe...          14.47   \n",
       "1  3 jumbo connectthedots coloring pads abc farm ...          12.74   \n",
       "2                                    great condition           9.06   \n",
       "3               disneypixar cars 3 new crazy 8 track          27.85   \n",
       "4                                    great condition          28.92   \n",
       "\n",
       "                                               Image Dimensions  ItemWeight  \\\n",
       "0  https://images-na.ssl-images-amazon.com/images...    3x10x15       15.20   \n",
       "1  https://images-na.ssl-images-amazon.com/images...  11x0.8x14        3.25   \n",
       "2  https://images-na.ssl-images-amazon.com/images...  5.9x4x0.4        0.32   \n",
       "3  https://images-na.ssl-images-amazon.com/images...  2.9x14x10        1.57   \n",
       "4  https://images-na.ssl-images-amazon.com/images...        NaN         NaN   \n",
       "\n",
       "   ShippingWeight        ASIN ItemModelNumber RecommendedAge  \n",
       "0           15.20  B01D52Q1UC          CT1688      8-15years  \n",
       "1            3.25  B07ZG7QYR5           97076       4-6years  \n",
       "2            0.32  B000VQML1O        RPM80862   16yearsandup  \n",
       "3            1.76  B076FLF7CC           FLG71       4-8years  \n",
       "4             NaN         NaN             NaN            NaN  "
      ]
     },
     "execution_count": 24,
     "metadata": {},
     "output_type": "execute_result"
    }
   ],
   "source": [
    "df.head()"
   ]
  },
  {
   "cell_type": "code",
   "execution_count": 25,
   "metadata": {},
   "outputs": [
    {
     "data": {
      "text/html": [
       "<div>\n",
       "<style scoped>\n",
       "    .dataframe tbody tr th:only-of-type {\n",
       "        vertical-align: middle;\n",
       "    }\n",
       "\n",
       "    .dataframe tbody tr th {\n",
       "        vertical-align: top;\n",
       "    }\n",
       "\n",
       "    .dataframe thead th {\n",
       "        text-align: right;\n",
       "    }\n",
       "</style>\n",
       "<table border=\"1\" class=\"dataframe\">\n",
       "  <thead>\n",
       "    <tr style=\"text-align: right;\">\n",
       "      <th></th>\n",
       "      <th>Product Name</th>\n",
       "      <th>Category</th>\n",
       "      <th>Description</th>\n",
       "      <th>Selling Price</th>\n",
       "      <th>Image</th>\n",
       "      <th>Dimensions</th>\n",
       "      <th>ItemWeight</th>\n",
       "      <th>ShippingWeight</th>\n",
       "      <th>ASIN</th>\n",
       "      <th>ItemModelNumber</th>\n",
       "      <th>RecommendedAge</th>\n",
       "    </tr>\n",
       "  </thead>\n",
       "  <tbody>\n",
       "    <tr>\n",
       "      <th>33319</th>\n",
       "      <td>neato classics jacobs ladder retro wooden puzz...</td>\n",
       "      <td>[Toys &amp; Games, Novelty &amp; Gag Toys, Magic Kits ...</td>\n",
       "      <td>the jacobs ladder makes use of a timeless opti...</td>\n",
       "      <td>5.99</td>\n",
       "      <td>https://images-na.ssl-images-amazon.com/images...</td>\n",
       "      <td>2.2x2x3.8</td>\n",
       "      <td>3.20</td>\n",
       "      <td>3.20</td>\n",
       "      <td>B000RAEBL2</td>\n",
       "      <td>6195</td>\n",
       "      <td>5-15years</td>\n",
       "    </tr>\n",
       "    <tr>\n",
       "      <th>33320</th>\n",
       "      <td>sushi roll  the sushi go dice game</td>\n",
       "      <td>[Toys &amp; Games, Games &amp; Accessories, Game Acces...</td>\n",
       "      <td>rice and dice roll with your favorite sushi go...</td>\n",
       "      <td>18.78</td>\n",
       "      <td>https://images-na.ssl-images-amazon.com/images...</td>\n",
       "      <td>11.4x11.4x16.3</td>\n",
       "      <td>1.91</td>\n",
       "      <td>1.95</td>\n",
       "      <td>B07PLFLR54</td>\n",
       "      <td>SUSHI_ROLL</td>\n",
       "      <td>8-15years</td>\n",
       "    </tr>\n",
       "    <tr>\n",
       "      <th>33321</th>\n",
       "      <td>white mountain puzzles craft room  1000 piece ...</td>\n",
       "      <td>[Toys &amp; Games, Puzzles, Jigsaw Puzzles]</td>\n",
       "      <td>more to puzzle building art jigsaw puzzles are...</td>\n",
       "      <td>15.99</td>\n",
       "      <td>https://images-na.ssl-images-amazon.com/images...</td>\n",
       "      <td>10x12x2</td>\n",
       "      <td>1.68</td>\n",
       "      <td>1.69</td>\n",
       "      <td>B07BS1W9R6</td>\n",
       "      <td>1372</td>\n",
       "      <td>12months-8years</td>\n",
       "    </tr>\n",
       "    <tr>\n",
       "      <th>33322</th>\n",
       "      <td>entertainment earth thor chair capes</td>\n",
       "      <td>[Toys &amp; Games, Party Supplies]</td>\n",
       "      <td>unique patented chair cape that celebrates thor</td>\n",
       "      <td>11.60</td>\n",
       "      <td>https://images-na.ssl-images-amazon.com/images...</td>\n",
       "      <td>24x30x0</td>\n",
       "      <td>7.20</td>\n",
       "      <td>7.40</td>\n",
       "      <td>B073FXDN4N</td>\n",
       "      <td>EE24503</td>\n",
       "      <td>14yearsandup</td>\n",
       "    </tr>\n",
       "    <tr>\n",
       "      <th>33323</th>\n",
       "      <td>mega construx call of duty simon ghost riley</td>\n",
       "      <td>[Toys &amp; Games, Toy Figures &amp; Playsets, Action ...</td>\n",
       "      <td>buildable superposeable simon ghost riley micr...</td>\n",
       "      <td>5.99</td>\n",
       "      <td>https://images-na.ssl-images-amazon.com/images...</td>\n",
       "      <td>6x1.1x3.9</td>\n",
       "      <td>0.96</td>\n",
       "      <td>0.96</td>\n",
       "      <td>B07MZG4MX4</td>\n",
       "      <td>GFW74</td>\n",
       "      <td>10-15years</td>\n",
       "    </tr>\n",
       "  </tbody>\n",
       "</table>\n",
       "</div>"
      ],
      "text/plain": [
       "                                            Product Name  \\\n",
       "33319  neato classics jacobs ladder retro wooden puzz...   \n",
       "33320                 sushi roll  the sushi go dice game   \n",
       "33321  white mountain puzzles craft room  1000 piece ...   \n",
       "33322               entertainment earth thor chair capes   \n",
       "33323       mega construx call of duty simon ghost riley   \n",
       "\n",
       "                                                Category  \\\n",
       "33319  [Toys & Games, Novelty & Gag Toys, Magic Kits ...   \n",
       "33320  [Toys & Games, Games & Accessories, Game Acces...   \n",
       "33321            [Toys & Games, Puzzles, Jigsaw Puzzles]   \n",
       "33322                     [Toys & Games, Party Supplies]   \n",
       "33323  [Toys & Games, Toy Figures & Playsets, Action ...   \n",
       "\n",
       "                                             Description  Selling Price  \\\n",
       "33319  the jacobs ladder makes use of a timeless opti...           5.99   \n",
       "33320  rice and dice roll with your favorite sushi go...          18.78   \n",
       "33321  more to puzzle building art jigsaw puzzles are...          15.99   \n",
       "33322    unique patented chair cape that celebrates thor          11.60   \n",
       "33323  buildable superposeable simon ghost riley micr...           5.99   \n",
       "\n",
       "                                                   Image      Dimensions  \\\n",
       "33319  https://images-na.ssl-images-amazon.com/images...       2.2x2x3.8   \n",
       "33320  https://images-na.ssl-images-amazon.com/images...  11.4x11.4x16.3   \n",
       "33321  https://images-na.ssl-images-amazon.com/images...         10x12x2   \n",
       "33322  https://images-na.ssl-images-amazon.com/images...         24x30x0   \n",
       "33323  https://images-na.ssl-images-amazon.com/images...       6x1.1x3.9   \n",
       "\n",
       "       ItemWeight  ShippingWeight        ASIN ItemModelNumber   RecommendedAge  \n",
       "33319        3.20            3.20  B000RAEBL2            6195        5-15years  \n",
       "33320        1.91            1.95  B07PLFLR54      SUSHI_ROLL        8-15years  \n",
       "33321        1.68            1.69  B07BS1W9R6            1372  12months-8years  \n",
       "33322        7.20            7.40  B073FXDN4N         EE24503     14yearsandup  \n",
       "33323        0.96            0.96  B07MZG4MX4           GFW74       10-15years  "
      ]
     },
     "execution_count": 25,
     "metadata": {},
     "output_type": "execute_result"
    }
   ],
   "source": [
    "df.tail()"
   ]
  },
  {
   "cell_type": "markdown",
   "metadata": {},
   "source": [
    "### Save Preprocess Data Frame"
   ]
  },
  {
   "cell_type": "code",
   "execution_count": 26,
   "metadata": {},
   "outputs": [],
   "source": [
    "df.to_csv(\"../datasets/products.csv\")"
   ]
  },
  {
   "cell_type": "code",
   "execution_count": null,
   "metadata": {},
   "outputs": [],
   "source": []
  }
 ],
 "metadata": {
  "kernelspec": {
   "display_name": "venv",
   "language": "python",
   "name": "python3"
  },
  "language_info": {
   "codemirror_mode": {
    "name": "ipython",
    "version": 3
   },
   "file_extension": ".py",
   "mimetype": "text/x-python",
   "name": "python",
   "nbconvert_exporter": "python",
   "pygments_lexer": "ipython3",
   "version": "3.13.2"
  }
 },
 "nbformat": 4,
 "nbformat_minor": 2
}
